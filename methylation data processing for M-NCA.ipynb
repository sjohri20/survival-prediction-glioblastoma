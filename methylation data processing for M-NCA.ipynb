{
 "cells": [
  {
   "cell_type": "markdown",
   "metadata": {},
   "source": [
    "### Methylation"
   ]
  },
  {
   "cell_type": "code",
   "execution_count": 1,
   "metadata": {},
   "outputs": [],
   "source": [
    "import numpy as np\n",
    "import matplotlib.pyplot as plt\n",
    "from sklearn import datasets\n",
    "from sklearn.model_selection import train_test_split\n",
    "from sklearn.decomposition import PCA\n",
    "from sklearn.discriminant_analysis import LinearDiscriminantAnalysis\n",
    "from sklearn.neighbors import (KNeighborsClassifier, NeighborhoodComponentsAnalysis)\n",
    "from sklearn.pipeline import make_pipeline\n",
    "from sklearn.preprocessing import StandardScaler\n",
    "import pandas as pd\n",
    "from mpl_toolkits.mplot3d import Axes3D\n",
    "from sklearn.cluster import KMeans\n",
    "from tqdm.auto import tqdm\n",
    "from sklearn.metrics import mean_squared_error, r2_score\n",
    "from lifelines import CoxPHFitter"
   ]
  },
  {
   "cell_type": "code",
   "execution_count": 2,
   "metadata": {},
   "outputs": [],
   "source": [
    "clin_file = 'clinical_final_extra.csv'\n",
    "clin_data = pd.read_csv(clin_file)\n",
    "clin_data.set_index('bcr_patient_barcode',inplace=True)\n",
    "clin_data.sort_values(by=[\"bcr_patient_barcode\"]);\n",
    "# X = X.transpose()"
   ]
  },
  {
   "cell_type": "code",
   "execution_count": 3,
   "metadata": {},
   "outputs": [],
   "source": [
    "meth_file = 'meth_final.csv'\n",
    "meth_data = pd.read_csv(meth_file)\n",
    "meth_data.set_index('Hybridization REF',inplace=True)\n",
    "meth_data = meth_data.transpose()"
   ]
  },
  {
   "cell_type": "code",
   "execution_count": 4,
   "metadata": {},
   "outputs": [],
   "source": [
    "#remove NAs\n",
    "row1 = list(meth_data.iloc[1,:])"
   ]
  },
  {
   "cell_type": "code",
   "execution_count": 5,
   "metadata": {},
   "outputs": [
    {
     "data": {
      "text/plain": [
       "0"
      ]
     },
     "execution_count": 5,
     "metadata": {},
     "output_type": "execute_result"
    }
   ],
   "source": [
    "l_col=[]\n",
    "for i in range(0,len(row1)):\n",
    "    if pd.isnull(row1[i])==True:\n",
    "        l_col.append(meth_data.columns[i])     \n",
    "len(l_col)"
   ]
  },
  {
   "cell_type": "code",
   "execution_count": 6,
   "metadata": {},
   "outputs": [
    {
     "data": {
      "text/plain": [
       "(530, 20115)"
      ]
     },
     "execution_count": 6,
     "metadata": {},
     "output_type": "execute_result"
    }
   ],
   "source": [
    "meth_data=meth_data.drop(columns=l_col)\n",
    "meth_data.shape"
   ]
  },
  {
   "cell_type": "code",
   "execution_count": 7,
   "metadata": {},
   "outputs": [],
   "source": [
    "ll = list(meth_data.index)\n",
    "for item in ll:\n",
    "    tc = item[-3:]\n",
    "    if tc==\"-02\":\n",
    "        meth_data = meth_data.drop(str(item))"
   ]
  },
  {
   "cell_type": "code",
   "execution_count": 8,
   "metadata": {},
   "outputs": [
    {
     "data": {
      "text/plain": [
       "(516, 20115)"
      ]
     },
     "execution_count": 8,
     "metadata": {},
     "output_type": "execute_result"
    }
   ],
   "source": [
    "meth_data.shape"
   ]
  },
  {
   "cell_type": "code",
   "execution_count": 9,
   "metadata": {},
   "outputs": [],
   "source": [
    "lll = list(meth_data.index)\n",
    "ll_new = []\n",
    "for item in lll:\n",
    "    item = item[0:12]\n",
    "    ll_new.append(item)\n",
    "meth_data.index = ll_new"
   ]
  },
  {
   "cell_type": "code",
   "execution_count": 10,
   "metadata": {},
   "outputs": [
    {
     "data": {
      "text/plain": [
       "3"
      ]
     },
     "execution_count": 10,
     "metadata": {},
     "output_type": "execute_result"
    }
   ],
   "source": [
    "rem_row = list(set(meth_data.index)^set(clin_data.index))\n",
    "len(rem_row)"
   ]
  },
  {
   "cell_type": "code",
   "execution_count": 11,
   "metadata": {},
   "outputs": [
    {
     "data": {
      "text/plain": [
       "['TCGA-R8-A6YH', 'TCGA-CS-5390', 'TCGA-DU-7019']"
      ]
     },
     "execution_count": 11,
     "metadata": {},
     "output_type": "execute_result"
    }
   ],
   "source": [
    "rem_row"
   ]
  },
  {
   "cell_type": "code",
   "execution_count": 12,
   "metadata": {},
   "outputs": [
    {
     "name": "stdout",
     "output_type": "stream",
     "text": [
      "(513, 32)\n",
      "(513, 20115)\n"
     ]
    }
   ],
   "source": [
    "for x in rem_row:\n",
    "    if (x in clin_data.index):\n",
    "        clin_data = clin_data.drop(x)\n",
    "    if (x in meth_data.index):\n",
    "        meth_data = meth_data.drop(x)\n",
    "\n",
    "print(clin_data.shape)\n",
    "print(meth_data.shape)"
   ]
  },
  {
   "cell_type": "code",
   "execution_count": 18,
   "metadata": {},
   "outputs": [],
   "source": [
    "clin_data.loc[meth_data.dropna().index,:].to_csv(\"processed_clinical_meth.csv\")\n",
    "meth_data.dropna().to_csv(\"processed_meth.csv\")"
   ]
  },
  {
   "cell_type": "code",
   "execution_count": 19,
   "metadata": {},
   "outputs": [
    {
     "data": {
      "text/plain": [
       "(384, 20115)"
      ]
     },
     "execution_count": 19,
     "metadata": {},
     "output_type": "execute_result"
    }
   ],
   "source": [
    "meth_data.dropna().shape"
   ]
  },
  {
   "cell_type": "code",
   "execution_count": null,
   "metadata": {},
   "outputs": [],
   "source": []
  },
  {
   "cell_type": "code",
   "execution_count": 14,
   "metadata": {},
   "outputs": [],
   "source": [
    "y = clin_data.loc[:,[\"OS\",\"OS.time\"]]"
   ]
  },
  {
   "cell_type": "code",
   "execution_count": 15,
   "metadata": {},
   "outputs": [],
   "source": [
    "y = y.loc[meth_data.dropna().index,:]\n",
    "X = meth_data.dropna()"
   ]
  },
  {
   "cell_type": "code",
   "execution_count": 16,
   "metadata": {},
   "outputs": [],
   "source": [
    "var = X.var()"
   ]
  },
  {
   "cell_type": "code",
   "execution_count": 17,
   "metadata": {},
   "outputs": [],
   "source": [
    "X_new = X.loc[:,var[var>0.01].index]"
   ]
  },
  {
   "cell_type": "code",
   "execution_count": null,
   "metadata": {},
   "outputs": [],
   "source": []
  },
  {
   "cell_type": "code",
   "execution_count": 18,
   "metadata": {},
   "outputs": [],
   "source": [
    "my_data_transposed = X_new\n",
    "my_data_transposed[\"Censor\"] = y[\"OS\"].values\n",
    "my_data_transposed[\"Survival\"] = y[\"OS.time\"].values"
   ]
  },
  {
   "cell_type": "code",
   "execution_count": null,
   "metadata": {},
   "outputs": [
    {
     "name": "stdout",
     "output_type": "stream",
     "text": [
      "Iteration 8: norm_delta = 6.20774, step_size = 0.0889, ll = -244.12786, newton_decrement = 211.87275, seconds_since_start = 508.8.9"
     ]
    }
   ],
   "source": [
    "cph = CoxPHFitter(penalizer = 10)\n",
    "cph.fit(my_data_transposed, duration_col='Survival', event_col='Censor', show_progress=True, step_size=0.4)\n",
    "cph.print_summary()"
   ]
  },
  {
   "cell_type": "code",
   "execution_count": 39,
   "metadata": {},
   "outputs": [],
   "source": [
    "random_state=0\n"
   ]
  },
  {
   "cell_type": "code",
   "execution_count": 53,
   "metadata": {},
   "outputs": [
    {
     "data": {
      "application/vnd.jupyter.widget-view+json": {
       "model_id": "d0ed9ba3641940d88d468d213a1e6f23",
       "version_major": 2,
       "version_minor": 0
      },
      "text/plain": [
       "HBox(children=(IntProgress(value=0, max=28), HTML(value='')))"
      ]
     },
     "metadata": {},
     "output_type": "display_data"
    },
    {
     "name": "stdout",
     "output_type": "stream",
     "text": [
      "\n"
     ]
    }
   ],
   "source": [
    "accuracies_test_list = []\n",
    "accuracies_train_list = []\n",
    "for i in tqdm(range(2,30)):\n",
    "    n_neighbors = i\n",
    "    random_state = 0\n",
    "    nca = make_pipeline(StandardScaler(),NeighborhoodComponentsAnalysis(n_components=32,random_state=random_state))\n",
    "    te_score=[]\n",
    "    tr_score=[]\n",
    "    for j in range(0,5):\n",
    "        X_test = X.iloc[int(j*len(y)/5):int((j+1)*len(y)/5),:]\n",
    "        y_test = y[int(j*len(y)/5):int((j+1)*len(y)/5)]\n",
    "        X_train = X.drop(X.index[range(int(j*len(y)/5),int((j+1)*len(y)/5))], axis=0)\n",
    "        y_train = y.drop(X.index[range(int(j*len(y)/5),int((j+1)*len(y)/5))], axis=0)\n",
    "#         X_train, X_test, y_train, y_test = train_test_split(X, y, test_size=0.3, stratify=y, random_state=random_state)\n",
    "        nca.fit(X_train, y_train)\n",
    "        # Fit a nearest neighbor classifier on the embedded training set\n",
    "        knn = KNeighborsClassifier(n_neighbors=n_neighbors)\n",
    "        knn.fit(nca.transform(X_train), y_train)\n",
    "        # Compute the nearest neighbor accuracy on the embedded test set\n",
    "        te_score.append(knn.score(nca.transform(X_test), y_test))\n",
    "        tr_score.append(knn.score(nca.transform(X_train), y_train))\n",
    "    accuracies_test_list.append(np.mean(te_score))\n",
    "    accuracies_train_list.append(np.mean(tr_score))"
   ]
  },
  {
   "cell_type": "code",
   "execution_count": 52,
   "metadata": {},
   "outputs": [
    {
     "name": "stdout",
     "output_type": "stream",
     "text": [
      "0.7681476418318522\n",
      "0.7877575193536106\n"
     ]
    },
    {
     "data": {
      "image/png": "[encoded data removed]",
      "text/plain": [
       "<Figure size 432x288 with 1 Axes>"
      ]
     },
     "metadata": {
      "needs_background": "light"
     },
     "output_type": "display_data"
    }
   ],
   "source": [
    "print(accuracies_test_list[np.argmax(accuracies_test_list)])\n",
    "print(accuracies_train_list[np.argmax(accuracies_test_list)])\n",
    "plt.plot(accuracies_test_list, label=\"test\")\n",
    "plt.plot(accuracies_train_list, label=\"train\")\n",
    "plt.legend()\n",
    "plt.show()"
   ]
  },
  {
   "cell_type": "code",
   "execution_count": 54,
   "metadata": {},
   "outputs": [
    {
     "name": "stdout",
     "output_type": "stream",
     "text": [
      "0.7708133971291866\n",
      "0.7903570370997081\n"
     ]
    },
    {
     "data": {
      "image/png": "[encoded data removed]",
      "text/plain": [
       "<Figure size 432x288 with 1 Axes>"
      ]
     },
     "metadata": {
      "needs_background": "light"
     },
     "output_type": "display_data"
    }
   ],
   "source": [
    "print(accuracies_test_list[np.argmax(accuracies_test_list)])\n",
    "print(accuracies_train_list[np.argmax(accuracies_test_list)])\n",
    "plt.plot(accuracies_test_list, label=\"test\")\n",
    "plt.plot(accuracies_train_list, label=\"train\")\n",
    "plt.legend()\n",
    "plt.show()"
   ]
  },
  {
   "cell_type": "code",
   "execution_count": null,
   "metadata": {},
   "outputs": [],
   "source": [
    "# Embed the data set in 2 dimensions using the fitted model\n",
    "X_embedded = nca.transform(X)"
   ]
  },
  {
   "cell_type": "code",
   "execution_count": null,
   "metadata": {},
   "outputs": [],
   "source": []
  },
  {
   "cell_type": "code",
   "execution_count": null,
   "metadata": {},
   "outputs": [],
   "source": []
  }
 ],
 "metadata": {
  "kernelspec": {
   "display_name": "Python 3",
   "language": "python",
   "name": "python3"
  },
  "language_info": {
   "codemirror_mode": {
    "name": "ipython",
    "version": 3
   },
   "file_extension": ".py",
   "mimetype": "text/x-python",
   "name": "python",
   "nbconvert_exporter": "python",
   "pygments_lexer": "ipython3",
   "version": "3.7.4"
  }
 },
 "nbformat": 4,
 "nbformat_minor": 2
}
