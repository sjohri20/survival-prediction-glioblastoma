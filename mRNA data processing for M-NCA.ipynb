{
 "cells": [
  {
   "cell_type": "markdown",
   "metadata": {},
   "source": [
    "### mRNA"
   ]
  },
  {
   "cell_type": "code",
   "execution_count": 2,
   "metadata": {},
   "outputs": [],
   "source": [
    "import numpy as np\n",
    "import matplotlib.pyplot as plt\n",
    "from sklearn import datasets\n",
    "from sklearn.model_selection import train_test_split\n",
    "from sklearn.decomposition import PCA\n",
    "from sklearn.discriminant_analysis import LinearDiscriminantAnalysis\n",
    "from sklearn.neighbors import (KNeighborsClassifier, NeighborhoodComponentsAnalysis)\n",
    "from sklearn.pipeline import make_pipeline\n",
    "from sklearn.preprocessing import StandardScaler\n",
    "import pandas as pd\n",
    "from mpl_toolkits.mplot3d import Axes3D\n",
    "from sklearn.cluster import KMeans\n",
    "from tqdm.auto import tqdm\n",
    "from sklearn.metrics import mean_squared_error, r2_score"
   ]
  },
  {
   "cell_type": "code",
   "execution_count": 3,
   "metadata": {},
   "outputs": [],
   "source": [
    "clin_file = 'clinical_final_extra.csv'\n",
    "clin_data = pd.read_csv(clin_file)\n",
    "clin_data.set_index('bcr_patient_barcode',inplace=True)\n",
    "clin_data.sort_values(by=[\"bcr_patient_barcode\"]);\n",
    "# X = X.transpose()"
   ]
  },
  {
   "cell_type": "code",
   "execution_count": 4,
   "metadata": {},
   "outputs": [],
   "source": [
    "mrna_file = 'mrna_final.xlsx'\n",
    "mrna_data = pd.read_excel(mrna_file, sheet_name='Sheet2')\n",
    "mrna_data.set_index('gene',inplace=True)\n",
    "mrna_data = mrna_data.transpose()"
   ]
  },
  {
   "cell_type": "code",
   "execution_count": 5,
   "metadata": {},
   "outputs": [],
   "source": [
    "#remove NAs\n",
    "row1 = list(mrna_data.iloc[1,:])"
   ]
  },
  {
   "cell_type": "code",
   "execution_count": 6,
   "metadata": {},
   "outputs": [
    {
     "data": {
      "text/plain": [
       "305"
      ]
     },
     "execution_count": 6,
     "metadata": {},
     "output_type": "execute_result"
    }
   ],
   "source": [
    "l_col=[]\n",
    "for i in range(0,len(row1)):\n",
    "    if pd.isnull(row1[i])==True:\n",
    "        l_col.append(mrna_data.columns[i])     \n",
    "len(l_col)"
   ]
  },
  {
   "cell_type": "code",
   "execution_count": 7,
   "metadata": {},
   "outputs": [
    {
     "data": {
      "text/plain": [
       "(530, 20226)"
      ]
     },
     "execution_count": 7,
     "metadata": {},
     "output_type": "execute_result"
    }
   ],
   "source": [
    "mrna_data=mrna_data.drop(columns=l_col)\n",
    "mrna_data.shape"
   ]
  },
  {
   "cell_type": "code",
   "execution_count": 8,
   "metadata": {},
   "outputs": [],
   "source": [
    "ll = list(mrna_data.index)\n",
    "for item in ll:\n",
    "    tc = item[-3:]\n",
    "    if tc==\"-02\":\n",
    "        mrna_data = mrna_data.drop(str(item))"
   ]
  },
  {
   "cell_type": "code",
   "execution_count": 9,
   "metadata": {},
   "outputs": [
    {
     "data": {
      "text/plain": [
       "(516, 20226)"
      ]
     },
     "execution_count": 9,
     "metadata": {},
     "output_type": "execute_result"
    }
   ],
   "source": [
    "mrna_data.shape"
   ]
  },
  {
   "cell_type": "code",
   "execution_count": 10,
   "metadata": {},
   "outputs": [],
   "source": [
    "lll = list(mrna_data.index)\n",
    "ll_new = []\n",
    "for item in lll:\n",
    "    item = item[0:12]\n",
    "    ll_new.append(item)\n",
    "mrna_data.index = ll_new"
   ]
  },
  {
   "cell_type": "code",
   "execution_count": 11,
   "metadata": {},
   "outputs": [
    {
     "data": {
      "text/plain": [
       "2"
      ]
     },
     "execution_count": 11,
     "metadata": {},
     "output_type": "execute_result"
    }
   ],
   "source": [
    "rem_row = list(set(mrna_data.index)^set(clin_data.index))\n",
    "len(rem_row)"
   ]
  },
  {
   "cell_type": "code",
   "execution_count": 12,
   "metadata": {},
   "outputs": [
    {
     "data": {
      "text/plain": [
       "['TCGA-CS-5390', 'TCGA-R8-A6YH']"
      ]
     },
     "execution_count": 12,
     "metadata": {},
     "output_type": "execute_result"
    }
   ],
   "source": [
    "rem_row"
   ]
  },
  {
   "cell_type": "code",
   "execution_count": 13,
   "metadata": {},
   "outputs": [
    {
     "name": "stdout",
     "output_type": "stream",
     "text": [
      "(514, 32)\n",
      "(514, 20226)\n"
     ]
    }
   ],
   "source": [
    "for x in rem_row:\n",
    "    if (x in clin_data.index):\n",
    "        clin_data = clin_data.drop(x)\n",
    "    if (x in mrna_data.index):\n",
    "        mrna_data = mrna_data.drop(x)\n",
    "\n",
    "print(clin_data.shape)\n",
    "print(mrna_data.shape)"
   ]
  },
  {
   "cell_type": "code",
   "execution_count": 14,
   "metadata": {},
   "outputs": [
    {
     "ename": "KeyError",
     "evalue": "\"None of [Index(['ALG6_29929', 'C10orf120_399814', 'C17orf77_146723', 'C21orf94_246705',\\n       'CALCA_796', 'EXT2_2132', 'FRG2B_441581', 'FRG2C_100288801',\\n       'HIST1H1T_3010', 'HOXC4_3221', 'HSP90B3P_343477', 'IQGAP2_10788',\\n       'LACRT_90070', 'LCE2C_353140', 'LILRA3_11026', 'LYZL1_84569',\\n       'MYBPC2_4606', 'NFATC4_4776', 'NKX2_6_137814', 'OPN1SW_611',\\n       'OR10A4_283297', 'OR1L4_254973', 'OR2A14_135941', 'OR2D2_120776',\\n       'OR2M2_391194', 'OR5T3_390154', 'PABPC3_5042', 'PDHA2_5161',\\n       'PLGLA_285189', 'RBMY1F_159163', 'RIPK4_54101', 'SMC4_10051',\\n       'SPINK5_11005', 'TNFRSF11B_4982', 'TNFSF14_8740', 'WEE1_7465'],\\n      dtype='object', name='gene')] are in the [columns]\"",
     "output_type": "error",
     "traceback": [
      "\u001b[1;31m---------------------------------------------------------------------------\u001b[0m",
      "\u001b[1;31mKeyError\u001b[0m                                  Traceback (most recent call last)",
      "\u001b[1;32m<ipython-input-14-17625abe766b>\u001b[0m in \u001b[0;36m<module>\u001b[1;34m\u001b[0m\n\u001b[1;32m----> 1\u001b[1;33m \u001b[0mX\u001b[0m \u001b[1;33m=\u001b[0m \u001b[0mmrna_data\u001b[0m\u001b[1;33m.\u001b[0m\u001b[0mloc\u001b[0m\u001b[1;33m[\u001b[0m\u001b[1;33m:\u001b[0m\u001b[1;33m,\u001b[0m\u001b[1;33m[\u001b[0m\u001b[1;34m\"ALG6_29929\"\u001b[0m\u001b[1;33m,\u001b[0m\u001b[1;34m\"C10orf120_399814\"\u001b[0m\u001b[1;33m,\u001b[0m\u001b[1;34m\"C17orf77_146723\"\u001b[0m\u001b[1;33m,\u001b[0m\u001b[1;34m\"C21orf94_246705\"\u001b[0m\u001b[1;33m,\u001b[0m\u001b[1;34m\"CALCA_796\"\u001b[0m\u001b[1;33m,\u001b[0m\u001b[1;34m\"EXT2_2132\"\u001b[0m\u001b[1;33m,\u001b[0m\u001b[1;34m\"FRG2B_441581\"\u001b[0m\u001b[1;33m,\u001b[0m\u001b[1;34m\"FRG2C_100288801\"\u001b[0m\u001b[1;33m,\u001b[0m\u001b[1;34m\"HIST1H1T_3010\"\u001b[0m\u001b[1;33m,\u001b[0m\u001b[1;34m\"HOXC4_3221\"\u001b[0m\u001b[1;33m,\u001b[0m\u001b[1;34m\"HSP90B3P_343477\"\u001b[0m\u001b[1;33m,\u001b[0m\u001b[1;34m\"IQGAP2_10788\"\u001b[0m\u001b[1;33m,\u001b[0m\u001b[1;34m\"LACRT_90070\"\u001b[0m\u001b[1;33m,\u001b[0m\u001b[1;34m\"LCE2C_353140\"\u001b[0m\u001b[1;33m,\u001b[0m\u001b[1;34m\"LILRA3_11026\"\u001b[0m\u001b[1;33m,\u001b[0m\u001b[1;34m\"LYZL1_84569\"\u001b[0m\u001b[1;33m,\u001b[0m\u001b[1;34m\"MYBPC2_4606\"\u001b[0m\u001b[1;33m,\u001b[0m\u001b[1;34m\"NFATC4_4776\"\u001b[0m\u001b[1;33m,\u001b[0m\u001b[1;34m\"NKX2_6_137814\"\u001b[0m\u001b[1;33m,\u001b[0m\u001b[1;34m\"OPN1SW_611\"\u001b[0m\u001b[1;33m,\u001b[0m\u001b[1;34m\"OR10A4_283297\"\u001b[0m\u001b[1;33m,\u001b[0m\u001b[1;34m\"OR1L4_254973\"\u001b[0m\u001b[1;33m,\u001b[0m\u001b[1;34m\"OR2A14_135941\"\u001b[0m\u001b[1;33m,\u001b[0m\u001b[1;34m\"OR2D2_120776\"\u001b[0m\u001b[1;33m,\u001b[0m\u001b[1;34m\"OR2M2_391194\"\u001b[0m\u001b[1;33m,\u001b[0m\u001b[1;34m\"OR5T3_390154\"\u001b[0m\u001b[1;33m,\u001b[0m\u001b[1;34m\"PABPC3_5042\"\u001b[0m\u001b[1;33m,\u001b[0m\u001b[1;34m\"PDHA2_5161\"\u001b[0m\u001b[1;33m,\u001b[0m\u001b[1;34m\"PLGLA_285189\"\u001b[0m\u001b[1;33m,\u001b[0m\u001b[1;34m\"RBMY1F_159163\"\u001b[0m\u001b[1;33m,\u001b[0m\u001b[1;34m\"RIPK4_54101\"\u001b[0m\u001b[1;33m,\u001b[0m\u001b[1;34m\"SMC4_10051\"\u001b[0m\u001b[1;33m,\u001b[0m\u001b[1;34m\"SPINK5_11005\"\u001b[0m\u001b[1;33m,\u001b[0m\u001b[1;34m\"TNFRSF11B_4982\"\u001b[0m\u001b[1;33m,\u001b[0m\u001b[1;34m\"TNFSF14_8740\"\u001b[0m\u001b[1;33m,\u001b[0m\u001b[1;34m\"WEE1_7465\"\u001b[0m\u001b[1;33m]\u001b[0m\u001b[1;33m]\u001b[0m\u001b[1;33m\u001b[0m\u001b[1;33m\u001b[0m\u001b[0m\n\u001b[0m",
      "\u001b[1;32mc:\\users\\hp\\appdata\\local\\programs\\python\\python37\\lib\\site-packages\\pandas\\core\\indexing.py\u001b[0m in \u001b[0;36m__getitem__\u001b[1;34m(self, key)\u001b[0m\n\u001b[0;32m   1416\u001b[0m                 \u001b[1;32mexcept\u001b[0m \u001b[1;33m(\u001b[0m\u001b[0mKeyError\u001b[0m\u001b[1;33m,\u001b[0m \u001b[0mIndexError\u001b[0m\u001b[1;33m,\u001b[0m \u001b[0mAttributeError\u001b[0m\u001b[1;33m)\u001b[0m\u001b[1;33m:\u001b[0m\u001b[1;33m\u001b[0m\u001b[1;33m\u001b[0m\u001b[0m\n\u001b[0;32m   1417\u001b[0m                     \u001b[1;32mpass\u001b[0m\u001b[1;33m\u001b[0m\u001b[1;33m\u001b[0m\u001b[0m\n\u001b[1;32m-> 1418\u001b[1;33m             \u001b[1;32mreturn\u001b[0m \u001b[0mself\u001b[0m\u001b[1;33m.\u001b[0m\u001b[0m_getitem_tuple\u001b[0m\u001b[1;33m(\u001b[0m\u001b[0mkey\u001b[0m\u001b[1;33m)\u001b[0m\u001b[1;33m\u001b[0m\u001b[1;33m\u001b[0m\u001b[0m\n\u001b[0m\u001b[0;32m   1419\u001b[0m         \u001b[1;32melse\u001b[0m\u001b[1;33m:\u001b[0m\u001b[1;33m\u001b[0m\u001b[1;33m\u001b[0m\u001b[0m\n\u001b[0;32m   1420\u001b[0m             \u001b[1;31m# we by definition only have the 0th axis\u001b[0m\u001b[1;33m\u001b[0m\u001b[1;33m\u001b[0m\u001b[1;33m\u001b[0m\u001b[0m\n",
      "\u001b[1;32mc:\\users\\hp\\appdata\\local\\programs\\python\\python37\\lib\\site-packages\\pandas\\core\\indexing.py\u001b[0m in \u001b[0;36m_getitem_tuple\u001b[1;34m(self, tup)\u001b[0m\n\u001b[0;32m    820\u001b[0m                 \u001b[1;32mcontinue\u001b[0m\u001b[1;33m\u001b[0m\u001b[1;33m\u001b[0m\u001b[0m\n\u001b[0;32m    821\u001b[0m \u001b[1;33m\u001b[0m\u001b[0m\n\u001b[1;32m--> 822\u001b[1;33m             \u001b[0mretval\u001b[0m \u001b[1;33m=\u001b[0m \u001b[0mgetattr\u001b[0m\u001b[1;33m(\u001b[0m\u001b[0mretval\u001b[0m\u001b[1;33m,\u001b[0m \u001b[0mself\u001b[0m\u001b[1;33m.\u001b[0m\u001b[0mname\u001b[0m\u001b[1;33m)\u001b[0m\u001b[1;33m.\u001b[0m\u001b[0m_getitem_axis\u001b[0m\u001b[1;33m(\u001b[0m\u001b[0mkey\u001b[0m\u001b[1;33m,\u001b[0m \u001b[0maxis\u001b[0m\u001b[1;33m=\u001b[0m\u001b[0mi\u001b[0m\u001b[1;33m)\u001b[0m\u001b[1;33m\u001b[0m\u001b[1;33m\u001b[0m\u001b[0m\n\u001b[0m\u001b[0;32m    823\u001b[0m \u001b[1;33m\u001b[0m\u001b[0m\n\u001b[0;32m    824\u001b[0m         \u001b[1;32mreturn\u001b[0m \u001b[0mretval\u001b[0m\u001b[1;33m\u001b[0m\u001b[1;33m\u001b[0m\u001b[0m\n",
      "\u001b[1;32mc:\\users\\hp\\appdata\\local\\programs\\python\\python37\\lib\\site-packages\\pandas\\core\\indexing.py\u001b[0m in \u001b[0;36m_getitem_axis\u001b[1;34m(self, key, axis)\u001b[0m\n\u001b[0;32m   1837\u001b[0m                     \u001b[1;32mraise\u001b[0m \u001b[0mValueError\u001b[0m\u001b[1;33m(\u001b[0m\u001b[1;34m\"Cannot index with multidimensional key\"\u001b[0m\u001b[1;33m)\u001b[0m\u001b[1;33m\u001b[0m\u001b[1;33m\u001b[0m\u001b[0m\n\u001b[0;32m   1838\u001b[0m \u001b[1;33m\u001b[0m\u001b[0m\n\u001b[1;32m-> 1839\u001b[1;33m                 \u001b[1;32mreturn\u001b[0m \u001b[0mself\u001b[0m\u001b[1;33m.\u001b[0m\u001b[0m_getitem_iterable\u001b[0m\u001b[1;33m(\u001b[0m\u001b[0mkey\u001b[0m\u001b[1;33m,\u001b[0m \u001b[0maxis\u001b[0m\u001b[1;33m=\u001b[0m\u001b[0maxis\u001b[0m\u001b[1;33m)\u001b[0m\u001b[1;33m\u001b[0m\u001b[1;33m\u001b[0m\u001b[0m\n\u001b[0m\u001b[0;32m   1840\u001b[0m \u001b[1;33m\u001b[0m\u001b[0m\n\u001b[0;32m   1841\u001b[0m             \u001b[1;31m# nested tuple slicing\u001b[0m\u001b[1;33m\u001b[0m\u001b[1;33m\u001b[0m\u001b[1;33m\u001b[0m\u001b[0m\n",
      "\u001b[1;32mc:\\users\\hp\\appdata\\local\\programs\\python\\python37\\lib\\site-packages\\pandas\\core\\indexing.py\u001b[0m in \u001b[0;36m_getitem_iterable\u001b[1;34m(self, key, axis)\u001b[0m\n\u001b[0;32m   1131\u001b[0m         \u001b[1;32melse\u001b[0m\u001b[1;33m:\u001b[0m\u001b[1;33m\u001b[0m\u001b[1;33m\u001b[0m\u001b[0m\n\u001b[0;32m   1132\u001b[0m             \u001b[1;31m# A collection of keys\u001b[0m\u001b[1;33m\u001b[0m\u001b[1;33m\u001b[0m\u001b[1;33m\u001b[0m\u001b[0m\n\u001b[1;32m-> 1133\u001b[1;33m             \u001b[0mkeyarr\u001b[0m\u001b[1;33m,\u001b[0m \u001b[0mindexer\u001b[0m \u001b[1;33m=\u001b[0m \u001b[0mself\u001b[0m\u001b[1;33m.\u001b[0m\u001b[0m_get_listlike_indexer\u001b[0m\u001b[1;33m(\u001b[0m\u001b[0mkey\u001b[0m\u001b[1;33m,\u001b[0m \u001b[0maxis\u001b[0m\u001b[1;33m,\u001b[0m \u001b[0mraise_missing\u001b[0m\u001b[1;33m=\u001b[0m\u001b[1;32mFalse\u001b[0m\u001b[1;33m)\u001b[0m\u001b[1;33m\u001b[0m\u001b[1;33m\u001b[0m\u001b[0m\n\u001b[0m\u001b[0;32m   1134\u001b[0m             return self.obj._reindex_with_indexers(\n\u001b[0;32m   1135\u001b[0m                 \u001b[1;33m{\u001b[0m\u001b[0maxis\u001b[0m\u001b[1;33m:\u001b[0m \u001b[1;33m[\u001b[0m\u001b[0mkeyarr\u001b[0m\u001b[1;33m,\u001b[0m \u001b[0mindexer\u001b[0m\u001b[1;33m]\u001b[0m\u001b[1;33m}\u001b[0m\u001b[1;33m,\u001b[0m \u001b[0mcopy\u001b[0m\u001b[1;33m=\u001b[0m\u001b[1;32mTrue\u001b[0m\u001b[1;33m,\u001b[0m \u001b[0mallow_dups\u001b[0m\u001b[1;33m=\u001b[0m\u001b[1;32mTrue\u001b[0m\u001b[1;33m\u001b[0m\u001b[1;33m\u001b[0m\u001b[0m\n",
      "\u001b[1;32mc:\\users\\hp\\appdata\\local\\programs\\python\\python37\\lib\\site-packages\\pandas\\core\\indexing.py\u001b[0m in \u001b[0;36m_get_listlike_indexer\u001b[1;34m(self, key, axis, raise_missing)\u001b[0m\n\u001b[0;32m   1090\u001b[0m \u001b[1;33m\u001b[0m\u001b[0m\n\u001b[0;32m   1091\u001b[0m         self._validate_read_indexer(\n\u001b[1;32m-> 1092\u001b[1;33m             \u001b[0mkeyarr\u001b[0m\u001b[1;33m,\u001b[0m \u001b[0mindexer\u001b[0m\u001b[1;33m,\u001b[0m \u001b[0mo\u001b[0m\u001b[1;33m.\u001b[0m\u001b[0m_get_axis_number\u001b[0m\u001b[1;33m(\u001b[0m\u001b[0maxis\u001b[0m\u001b[1;33m)\u001b[0m\u001b[1;33m,\u001b[0m \u001b[0mraise_missing\u001b[0m\u001b[1;33m=\u001b[0m\u001b[0mraise_missing\u001b[0m\u001b[1;33m\u001b[0m\u001b[1;33m\u001b[0m\u001b[0m\n\u001b[0m\u001b[0;32m   1093\u001b[0m         )\n\u001b[0;32m   1094\u001b[0m         \u001b[1;32mreturn\u001b[0m \u001b[0mkeyarr\u001b[0m\u001b[1;33m,\u001b[0m \u001b[0mindexer\u001b[0m\u001b[1;33m\u001b[0m\u001b[1;33m\u001b[0m\u001b[0m\n",
      "\u001b[1;32mc:\\users\\hp\\appdata\\local\\programs\\python\\python37\\lib\\site-packages\\pandas\\core\\indexing.py\u001b[0m in \u001b[0;36m_validate_read_indexer\u001b[1;34m(self, key, indexer, axis, raise_missing)\u001b[0m\n\u001b[0;32m   1175\u001b[0m                 raise KeyError(\n\u001b[0;32m   1176\u001b[0m                     \"None of [{key}] are in the [{axis}]\".format(\n\u001b[1;32m-> 1177\u001b[1;33m                         \u001b[0mkey\u001b[0m\u001b[1;33m=\u001b[0m\u001b[0mkey\u001b[0m\u001b[1;33m,\u001b[0m \u001b[0maxis\u001b[0m\u001b[1;33m=\u001b[0m\u001b[0mself\u001b[0m\u001b[1;33m.\u001b[0m\u001b[0mobj\u001b[0m\u001b[1;33m.\u001b[0m\u001b[0m_get_axis_name\u001b[0m\u001b[1;33m(\u001b[0m\u001b[0maxis\u001b[0m\u001b[1;33m)\u001b[0m\u001b[1;33m\u001b[0m\u001b[1;33m\u001b[0m\u001b[0m\n\u001b[0m\u001b[0;32m   1178\u001b[0m                     )\n\u001b[0;32m   1179\u001b[0m                 )\n",
      "\u001b[1;31mKeyError\u001b[0m: \"None of [Index(['ALG6_29929', 'C10orf120_399814', 'C17orf77_146723', 'C21orf94_246705',\\n       'CALCA_796', 'EXT2_2132', 'FRG2B_441581', 'FRG2C_100288801',\\n       'HIST1H1T_3010', 'HOXC4_3221', 'HSP90B3P_343477', 'IQGAP2_10788',\\n       'LACRT_90070', 'LCE2C_353140', 'LILRA3_11026', 'LYZL1_84569',\\n       'MYBPC2_4606', 'NFATC4_4776', 'NKX2_6_137814', 'OPN1SW_611',\\n       'OR10A4_283297', 'OR1L4_254973', 'OR2A14_135941', 'OR2D2_120776',\\n       'OR2M2_391194', 'OR5T3_390154', 'PABPC3_5042', 'PDHA2_5161',\\n       'PLGLA_285189', 'RBMY1F_159163', 'RIPK4_54101', 'SMC4_10051',\\n       'SPINK5_11005', 'TNFRSF11B_4982', 'TNFSF14_8740', 'WEE1_7465'],\\n      dtype='object', name='gene')] are in the [columns]\""
     ]
    }
   ],
   "source": [
    "X = mrna_data.loc[:,[\"ALG6_29929\",\"C10orf120_399814\",\"C17orf77_146723\",\"C21orf94_246705\",\"CALCA_796\",\"EXT2_2132\",\"FRG2B_441581\",\"FRG2C_100288801\",\"HIST1H1T_3010\",\"HOXC4_3221\",\"HSP90B3P_343477\",\"IQGAP2_10788\",\"LACRT_90070\",\"LCE2C_353140\",\"LILRA3_11026\",\"LYZL1_84569\",\"MYBPC2_4606\",\"NFATC4_4776\",\"NKX2_6_137814\",\"OPN1SW_611\",\"OR10A4_283297\",\"OR1L4_254973\",\"OR2A14_135941\",\"OR2D2_120776\",\"OR2M2_391194\",\"OR5T3_390154\",\"PABPC3_5042\",\"PDHA2_5161\",\"PLGLA_285189\",\"RBMY1F_159163\",\"RIPK4_54101\",\"SMC4_10051\",\"SPINK5_11005\",\"TNFRSF11B_4982\",\"TNFSF14_8740\",\"WEE1_7465\"]]"
   ]
  },
  {
   "cell_type": "code",
   "execution_count": 67,
   "metadata": {},
   "outputs": [],
   "source": [
    "y = clin_data[\"OS\"]\n",
    "y_new = []\n",
    "for item in y:\n",
    "    y_new.append(item)"
   ]
  },
  {
   "cell_type": "code",
   "execution_count": 68,
   "metadata": {},
   "outputs": [],
   "source": [
    "random_state=0\n",
    "X_train, X_test, y_train, y_test = train_test_split(mrna_data, y_new, test_size=0.4, stratify=y_new, random_state=random_state)"
   ]
  },
  {
   "cell_type": "code",
   "execution_count": 71,
   "metadata": {},
   "outputs": [],
   "source": [
    "accuracies_test_list = []\n",
    "accuracies_train_list = []\n",
    "for i in range(2,10):\n",
    "    n_neighbors = i\n",
    "    random_state = 0\n",
    "    nca = make_pipeline(StandardScaler(),NeighborhoodComponentsAnalysis(n_components=32,random_state=random_state))\n",
    "    # Fit the model\n",
    "    nca.fit(X_train, y_train)\n",
    "    # Fit a nearest neighbor classifier on the embedded training set\n",
    "    knn = KNeighborsClassifier(n_neighbors=n_neighbors)\n",
    "    knn.fit(nca.transform(X_train), y_train)\n",
    "    # Compute the nearest neighbor accuracy on the embedded test set\n",
    "    acc_knn_test = knn.score(nca.transform(X_test), y_test)\n",
    "    acc_knn_train = knn.score(nca.transform(X_train), y_train)\n",
    "    accuracies_test_list.append(acc_knn_test)\n",
    "    accuracies_train_list.append(acc_knn_train)"
   ]
  },
  {
   "cell_type": "code",
   "execution_count": 72,
   "metadata": {},
   "outputs": [
    {
     "name": "stdout",
     "output_type": "stream",
     "text": [
      "0.7961165048543689\n",
      "0.7824675324675324\n"
     ]
    },
    {
     "data": {
      "image/png": "[encoded data removed]",
      "text/plain": [
       "<Figure size 432x288 with 1 Axes>"
      ]
     },
     "metadata": {
      "needs_background": "light"
     },
     "output_type": "display_data"
    }
   ],
   "source": [
    "print(accuracies_test_list[np.argmax(accuracies_test_list)])\n",
    "print(accuracies_train_list[np.argmin(accuracies_train_list)])\n",
    "plt.plot(accuracies_test_list, label=\"test\")\n",
    "plt.plot(accuracies_train_list, label=\"train\")\n",
    "plt.legend()\n",
    "plt.show()"
   ]
  },
  {
   "cell_type": "code",
   "execution_count": null,
   "metadata": {},
   "outputs": [],
   "source": [
    "# Embed the data set in 2 dimensions using the fitted model\n",
    "X_embedded = nca.transform(X)"
   ]
  },
  {
   "cell_type": "code",
   "execution_count": 73,
   "metadata": {},
   "outputs": [],
   "source": [
    "clin_data.to_csv(\"processed_clinical_mrna.csv\")\n",
    "mrna_data.to_csv(\"processed_mrna.csv\")"
   ]
  },
  {
   "cell_type": "code",
   "execution_count": null,
   "metadata": {},
   "outputs": [],
   "source": []
  },
  {
   "cell_type": "code",
   "execution_count": null,
   "metadata": {},
   "outputs": [],
   "source": []
  }
 ],
 "metadata": {
  "kernelspec": {
   "display_name": "Python 3",
   "language": "python",
   "name": "python3"
  },
  "language_info": {
   "codemirror_mode": {
    "name": "ipython",
    "version": 3
   },
   "file_extension": ".py",
   "mimetype": "text/x-python",
   "name": "python",
   "nbconvert_exporter": "python",
   "pygments_lexer": "ipython3",
   "version": "3.7.4"
  }
 },
 "nbformat": 4,
 "nbformat_minor": 2
}
