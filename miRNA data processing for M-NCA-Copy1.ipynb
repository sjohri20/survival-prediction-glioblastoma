{
 "cells": [
  {
   "cell_type": "markdown",
   "metadata": {},
   "source": [
    "\n",
    "# Neighborhood Components Analysis\n"
   ]
  },
  {
   "cell_type": "code",
   "execution_count": 17,
   "metadata": {},
   "outputs": [],
   "source": [
    "import numpy as np\n",
    "import matplotlib.pyplot as plt\n",
    "import pandas as pd\n",
    "import tick as tk\n",
    "from sklearn.preprocessing import StandardScaler\n",
    "from sklearn.utils import shuffle"
   ]
  },
  {
   "cell_type": "code",
   "execution_count": 2,
   "metadata": {},
   "outputs": [],
   "source": [
    "clin_file = 'clinical_final_extra.csv'\n",
    "clin_data = pd.read_csv(clin_file)\n",
    "clin_data.set_index('bcr_patient_barcode',inplace=True)\n",
    "clin_data.sort_values(by=[\"bcr_patient_barcode\"]);\n",
    "# X = X.transpose()"
   ]
  },
  {
   "cell_type": "code",
   "execution_count": 3,
   "metadata": {},
   "outputs": [],
   "source": [
    "mirna_file = 'mirna_final.csv'\n",
    "mirna_data = pd.read_csv(mirna_file)\n",
    "mirna_data.set_index('HYBRIDIZATION R',inplace=True)\n",
    "mirna_data.sort_values(by=[\"HYBRIDIZATION R\"]);"
   ]
  },
  {
   "cell_type": "code",
   "execution_count": 4,
   "metadata": {},
   "outputs": [],
   "source": [
    "ll = list(mirna_data.index)\n",
    "for item in ll:\n",
    "    tc = item[-3:]\n",
    "    if tc==\"-02\":\n",
    "        mirna_data = mirna_data.drop(str(item))"
   ]
  },
  {
   "cell_type": "code",
   "execution_count": 5,
   "metadata": {},
   "outputs": [
    {
     "data": {
      "text/plain": [
       "(512, 548)"
      ]
     },
     "execution_count": 5,
     "metadata": {},
     "output_type": "execute_result"
    }
   ],
   "source": [
    "mirna_data.shape"
   ]
  },
  {
   "cell_type": "code",
   "execution_count": 6,
   "metadata": {},
   "outputs": [],
   "source": [
    "lll = list(mirna_data.index)\n",
    "ll_new = []\n",
    "for item in lll:\n",
    "    item = item[0:12]\n",
    "    ll_new.append(item)\n",
    "mirna_data.index = ll_new"
   ]
  },
  {
   "cell_type": "code",
   "execution_count": 7,
   "metadata": {},
   "outputs": [
    {
     "data": {
      "text/plain": [
       "['TCGA-DB-A75M',\n",
       " 'TCGA-R8-A6YH',\n",
       " 'TCGA-HT-A74J',\n",
       " 'TCGA-DU-7011',\n",
       " 'TCGA-CS-5390',\n",
       " 'TCGA-DU-7019',\n",
       " 'TCGA-QH-A6CW']"
      ]
     },
     "execution_count": 7,
     "metadata": {},
     "output_type": "execute_result"
    }
   ],
   "source": [
    "rem_row = list(set(mirna_data.index)^set(clin_data.index))\n",
    "rem_row"
   ]
  },
  {
   "cell_type": "code",
   "execution_count": 8,
   "metadata": {},
   "outputs": [
    {
     "name": "stdout",
     "output_type": "stream",
     "text": [
      "(509, 32)\n",
      "(509, 548)\n"
     ]
    }
   ],
   "source": [
    "for x in rem_row:\n",
    "    if (x in clin_data.index):\n",
    "        clin_data = clin_data.drop(x)\n",
    "    if (x in mirna_data.index):\n",
    "        mirna_data = mirna_data.drop(x)\n",
    "\n",
    "print(clin_data.shape)\n",
    "print(mirna_data.shape)"
   ]
  },
  {
   "cell_type": "code",
   "execution_count": 9,
   "metadata": {},
   "outputs": [],
   "source": [
    "# clin_data.to_csv(\"processed_clinical_mirna.csv\")\n",
    "# mirna_data.to_csv(\"processed_mirna.csv\")"
   ]
  },
  {
   "cell_type": "code",
   "execution_count": 27,
   "metadata": {},
   "outputs": [],
   "source": [
    "# X = mirna_data.loc[:,[\"hsa-let-7e\",\"hsa-let-7f-2\",\"hsa-mir-10b\",\"hsa-mir-1275\",\"hsa-mir-1304\",\"hsa-mir-143\",\"hsa-mir-155\",\"hsa-mir-301b\",\"hsa-mir-3074\",\"hsa-mir-3136\",\"hsa-mir-3158-2\",\"hsa-mir-320a\",\"hsa-mir-3622b\",\"hsa-mir-3678\",\"hsa-mir-3690\",\"hsa-mir-3923\"]]\n",
    "X=mirna_data"
   ]
  },
  {
   "cell_type": "code",
   "execution_count": 28,
   "metadata": {},
   "outputs": [
    {
     "data": {
      "text/plain": [
       "(509, 548)"
      ]
     },
     "execution_count": 28,
     "metadata": {},
     "output_type": "execute_result"
    }
   ],
   "source": [
    "X.shape"
   ]
  },
  {
   "cell_type": "code",
   "execution_count": 29,
   "metadata": {},
   "outputs": [],
   "source": [
    "y = clin_data[[\"OS\",\"OS.time\"]]\n",
    "random_state=0\n",
    "scaler = StandardScaler()\n",
    "X = pd.DataFrame(scaler.fit(X).fit_transform(X))"
   ]
  },
  {
   "cell_type": "code",
   "execution_count": 40,
   "metadata": {},
   "outputs": [],
   "source": [
    "data_frame = X\n",
    "data_frame[\"Survival\"] = y[\"OS.time\"].values\n",
    "data_frame[\"Censor\"] = y[\"OS\"].values\n",
    "data_frame=shuffle(data_frame)"
   ]
  },
  {
   "cell_type": "code",
   "execution_count": 43,
   "metadata": {},
   "outputs": [
    {
     "ename": "ModuleNotFoundError",
     "evalue": "No module named 'dill'",
     "output_type": "error",
     "traceback": [
      "\u001b[1;31m---------------------------------------------------------------------------\u001b[0m",
      "\u001b[1;31mModuleNotFoundError\u001b[0m                       Traceback (most recent call last)",
      "\u001b[1;32m<ipython-input-43-5269fce4d633>\u001b[0m in \u001b[0;36m<module>\u001b[1;34m\u001b[0m\n\u001b[1;32m----> 1\u001b[1;33m \u001b[1;32mfrom\u001b[0m \u001b[0mtick\u001b[0m\u001b[1;33m.\u001b[0m\u001b[0msurvival\u001b[0m \u001b[1;32mimport\u001b[0m \u001b[0mCoxRegression\u001b[0m\u001b[1;33m\u001b[0m\u001b[1;33m\u001b[0m\u001b[0m\n\u001b[0m\u001b[0;32m      2\u001b[0m \u001b[0mcph\u001b[0m \u001b[1;33m=\u001b[0m \u001b[0mCoxRegression\u001b[0m\u001b[1;33m(\u001b[0m\u001b[0mpenalty\u001b[0m\u001b[1;33m=\u001b[0m\u001b[1;34m\"l2\"\u001b[0m\u001b[1;33m)\u001b[0m\u001b[1;33m\u001b[0m\u001b[1;33m\u001b[0m\u001b[0m\n",
      "\u001b[1;32mc:\\users\\shreya johri\\appdata\\local\\programs\\python\\python37\\lib\\site-packages\\tick\\survival\\__init__.py\u001b[0m in \u001b[0;36m<module>\u001b[1;34m\u001b[0m\n\u001b[0;32m     12\u001b[0m \u001b[1;33m\u001b[0m\u001b[0m\n\u001b[0;32m     13\u001b[0m \u001b[1;32mfrom\u001b[0m \u001b[1;33m.\u001b[0m\u001b[0msimu_coxreg\u001b[0m \u001b[1;32mimport\u001b[0m \u001b[0mSimuCoxReg\u001b[0m\u001b[1;33m,\u001b[0m \u001b[0mSimuCoxRegWithCutPoints\u001b[0m\u001b[1;33m\u001b[0m\u001b[1;33m\u001b[0m\u001b[0m\n\u001b[1;32m---> 14\u001b[1;33m \u001b[1;32mfrom\u001b[0m \u001b[1;33m.\u001b[0m\u001b[0msimu_sccs\u001b[0m \u001b[1;32mimport\u001b[0m \u001b[0mSimuSCCS\u001b[0m\u001b[1;33m\u001b[0m\u001b[1;33m\u001b[0m\u001b[0m\n\u001b[0m\u001b[0;32m     15\u001b[0m \u001b[1;32mfrom\u001b[0m \u001b[1;33m.\u001b[0m\u001b[0mconvolutional_sccs\u001b[0m \u001b[1;32mimport\u001b[0m \u001b[0mConvSCCS\u001b[0m\u001b[1;33m\u001b[0m\u001b[1;33m\u001b[0m\u001b[0m\n\u001b[0;32m     16\u001b[0m \u001b[1;33m\u001b[0m\u001b[0m\n",
      "\u001b[1;32mc:\\users\\shreya johri\\appdata\\local\\programs\\python\\python37\\lib\\site-packages\\tick\\survival\\simu_sccs.py\u001b[0m in \u001b[0;36m<module>\u001b[1;34m\u001b[0m\n\u001b[0;32m      6\u001b[0m \u001b[1;32mfrom\u001b[0m \u001b[0mscipy\u001b[0m\u001b[1;33m.\u001b[0m\u001b[0msparse\u001b[0m \u001b[1;32mimport\u001b[0m \u001b[0mcsr_matrix\u001b[0m\u001b[1;33m\u001b[0m\u001b[1;33m\u001b[0m\u001b[0m\n\u001b[0;32m      7\u001b[0m \u001b[1;32mfrom\u001b[0m \u001b[0mtick\u001b[0m\u001b[1;33m.\u001b[0m\u001b[0mbase\u001b[0m\u001b[1;33m.\u001b[0m\u001b[0msimulation\u001b[0m \u001b[1;32mimport\u001b[0m \u001b[0mSimu\u001b[0m\u001b[1;33m\u001b[0m\u001b[1;33m\u001b[0m\u001b[0m\n\u001b[1;32m----> 8\u001b[1;33m \u001b[1;32mfrom\u001b[0m \u001b[0mtick\u001b[0m\u001b[1;33m.\u001b[0m\u001b[0mhawkes\u001b[0m \u001b[1;32mimport\u001b[0m \u001b[0mSimuHawkesExpKernels\u001b[0m\u001b[1;33m,\u001b[0m \u001b[0mSimuHawkesMulti\u001b[0m\u001b[1;33m\u001b[0m\u001b[1;33m\u001b[0m\u001b[0m\n\u001b[0m\u001b[0;32m      9\u001b[0m \u001b[1;32mfrom\u001b[0m \u001b[0mtick\u001b[0m\u001b[1;33m.\u001b[0m\u001b[0mpreprocessing\u001b[0m \u001b[1;32mimport\u001b[0m \u001b[0mLongitudinalFeaturesLagger\u001b[0m\u001b[1;33m\u001b[0m\u001b[1;33m\u001b[0m\u001b[0m\n\u001b[0;32m     10\u001b[0m \u001b[1;32mfrom\u001b[0m \u001b[0mitertools\u001b[0m \u001b[1;32mimport\u001b[0m \u001b[0mpermutations\u001b[0m\u001b[1;33m\u001b[0m\u001b[1;33m\u001b[0m\u001b[0m\n",
      "\u001b[1;32mc:\\users\\shreya johri\\appdata\\local\\programs\\python\\python37\\lib\\site-packages\\tick\\hawkes\\__init__.py\u001b[0m in \u001b[0;36m<module>\u001b[1;34m\u001b[0m\n\u001b[0;32m     12\u001b[0m                          \u001b[0mHawkesKernelExp\u001b[0m\u001b[1;33m,\u001b[0m \u001b[0mHawkesKernelPowerLaw\u001b[0m\u001b[1;33m,\u001b[0m\u001b[1;33m\u001b[0m\u001b[1;33m\u001b[0m\u001b[0m\n\u001b[0;32m     13\u001b[0m                          HawkesKernelSumExp, HawkesKernelTimeFunc)\n\u001b[1;32m---> 14\u001b[1;33m from .inference import (HawkesADM4, HawkesExpKern, HawkesSumExpKern,\n\u001b[0m\u001b[0;32m     15\u001b[0m                         \u001b[0mHawkesBasisKernels\u001b[0m\u001b[1;33m,\u001b[0m \u001b[0mHawkesConditionalLaw\u001b[0m\u001b[1;33m,\u001b[0m \u001b[0mHawkesEM\u001b[0m\u001b[1;33m,\u001b[0m\u001b[1;33m\u001b[0m\u001b[1;33m\u001b[0m\u001b[0m\n\u001b[0;32m     16\u001b[0m                         HawkesSumGaussians, HawkesCumulantMatching)\n",
      "\u001b[1;32mc:\\users\\shreya johri\\appdata\\local\\programs\\python\\python37\\lib\\site-packages\\tick\\hawkes\\inference\\__init__.py\u001b[0m in \u001b[0;36m<module>\u001b[1;34m\u001b[0m\n\u001b[0;32m      1\u001b[0m \u001b[1;31m# License: BSD 3 clause\u001b[0m\u001b[1;33m\u001b[0m\u001b[1;33m\u001b[0m\u001b[1;33m\u001b[0m\u001b[0m\n\u001b[0;32m      2\u001b[0m \u001b[1;33m\u001b[0m\u001b[0m\n\u001b[1;32m----> 3\u001b[1;33m \u001b[1;32mfrom\u001b[0m \u001b[1;33m.\u001b[0m\u001b[0mhawkes_adm4\u001b[0m \u001b[1;32mimport\u001b[0m \u001b[0mHawkesADM4\u001b[0m\u001b[1;33m\u001b[0m\u001b[1;33m\u001b[0m\u001b[0m\n\u001b[0m\u001b[0;32m      4\u001b[0m \u001b[1;32mfrom\u001b[0m \u001b[1;33m.\u001b[0m\u001b[0mhawkes_basis_kernels\u001b[0m \u001b[1;32mimport\u001b[0m \u001b[0mHawkesBasisKernels\u001b[0m\u001b[1;33m\u001b[0m\u001b[1;33m\u001b[0m\u001b[0m\n\u001b[0;32m      5\u001b[0m \u001b[1;32mfrom\u001b[0m \u001b[1;33m.\u001b[0m\u001b[0mhawkes_conditional_law\u001b[0m \u001b[1;32mimport\u001b[0m \u001b[0mHawkesConditionalLaw\u001b[0m\u001b[1;33m\u001b[0m\u001b[1;33m\u001b[0m\u001b[0m\n",
      "\u001b[1;32mc:\\users\\shreya johri\\appdata\\local\\programs\\python\\python37\\lib\\site-packages\\tick\\hawkes\\inference\\hawkes_adm4.py\u001b[0m in \u001b[0;36m<module>\u001b[1;34m\u001b[0m\n\u001b[0;32m      4\u001b[0m \u001b[1;33m\u001b[0m\u001b[0m\n\u001b[0;32m      5\u001b[0m \u001b[1;32mfrom\u001b[0m \u001b[0mtick\u001b[0m\u001b[1;33m.\u001b[0m\u001b[0mhawkes\u001b[0m \u001b[1;32mimport\u001b[0m \u001b[0mModelHawkesExpKernLogLik\u001b[0m\u001b[1;33m,\u001b[0m \u001b[0mSimuHawkesExpKernels\u001b[0m\u001b[1;33m\u001b[0m\u001b[1;33m\u001b[0m\u001b[0m\n\u001b[1;32m----> 6\u001b[1;33m \u001b[1;32mfrom\u001b[0m \u001b[0mtick\u001b[0m\u001b[1;33m.\u001b[0m\u001b[0mhawkes\u001b[0m\u001b[1;33m.\u001b[0m\u001b[0minference\u001b[0m\u001b[1;33m.\u001b[0m\u001b[0mbase\u001b[0m \u001b[1;32mimport\u001b[0m \u001b[0mLearnerHawkesNoParam\u001b[0m\u001b[1;33m\u001b[0m\u001b[1;33m\u001b[0m\u001b[0m\n\u001b[0m\u001b[0;32m      7\u001b[0m from tick.hawkes.inference.build.hawkes_inference import (HawkesADM4 as\n\u001b[0;32m      8\u001b[0m                                                           _HawkesADM4)\n",
      "\u001b[1;32mc:\\users\\shreya johri\\appdata\\local\\programs\\python\\python37\\lib\\site-packages\\tick\\hawkes\\inference\\base\\__init__.py\u001b[0m in \u001b[0;36m<module>\u001b[1;34m\u001b[0m\n\u001b[0;32m      1\u001b[0m \u001b[1;31m# License: BSD 3 clause\u001b[0m\u001b[1;33m\u001b[0m\u001b[1;33m\u001b[0m\u001b[1;33m\u001b[0m\u001b[0m\n\u001b[0;32m      2\u001b[0m \u001b[1;33m\u001b[0m\u001b[0m\n\u001b[1;32m----> 3\u001b[1;33m \u001b[1;32mfrom\u001b[0m \u001b[1;33m.\u001b[0m\u001b[0mlearner_hawkes_noparam\u001b[0m \u001b[1;32mimport\u001b[0m \u001b[0mLearnerHawkesNoParam\u001b[0m\u001b[1;33m\u001b[0m\u001b[1;33m\u001b[0m\u001b[0m\n\u001b[0m\u001b[0;32m      4\u001b[0m \u001b[1;32mfrom\u001b[0m \u001b[1;33m.\u001b[0m\u001b[0mlearner_hawkes_param\u001b[0m \u001b[1;32mimport\u001b[0m \u001b[0mLearnerHawkesParametric\u001b[0m\u001b[1;33m\u001b[0m\u001b[1;33m\u001b[0m\u001b[0m\n",
      "\u001b[1;32mc:\\users\\shreya johri\\appdata\\local\\programs\\python\\python37\\lib\\site-packages\\tick\\hawkes\\inference\\base\\learner_hawkes_noparam.py\u001b[0m in \u001b[0;36m<module>\u001b[1;34m\u001b[0m\n\u001b[0;32m      3\u001b[0m \u001b[1;32mimport\u001b[0m \u001b[0mnumpy\u001b[0m \u001b[1;32mas\u001b[0m \u001b[0mnp\u001b[0m\u001b[1;33m\u001b[0m\u001b[1;33m\u001b[0m\u001b[0m\n\u001b[0;32m      4\u001b[0m \u001b[1;33m\u001b[0m\u001b[0m\n\u001b[1;32m----> 5\u001b[1;33m \u001b[1;32mfrom\u001b[0m \u001b[0mtick\u001b[0m\u001b[1;33m.\u001b[0m\u001b[0msolver\u001b[0m\u001b[1;33m.\u001b[0m\u001b[0mbase\u001b[0m \u001b[1;32mimport\u001b[0m \u001b[0mSolver\u001b[0m\u001b[1;33m\u001b[0m\u001b[1;33m\u001b[0m\u001b[0m\n\u001b[0m\u001b[0;32m      6\u001b[0m \u001b[1;33m\u001b[0m\u001b[0m\n\u001b[0;32m      7\u001b[0m \u001b[1;33m\u001b[0m\u001b[0m\n",
      "\u001b[1;32mc:\\users\\shreya johri\\appdata\\local\\programs\\python\\python37\\lib\\site-packages\\tick\\solver\\__init__.py\u001b[0m in \u001b[0;36m<module>\u001b[1;34m\u001b[0m\n\u001b[0;32m      5\u001b[0m \u001b[1;32mimport\u001b[0m \u001b[0mtick\u001b[0m\u001b[1;33m.\u001b[0m\u001b[0mrobust\u001b[0m\u001b[1;33m.\u001b[0m\u001b[0mbuild\u001b[0m\u001b[1;33m.\u001b[0m\u001b[0mrobust\u001b[0m\u001b[1;33m\u001b[0m\u001b[1;33m\u001b[0m\u001b[0m\n\u001b[0;32m      6\u001b[0m \u001b[1;33m\u001b[0m\u001b[0m\n\u001b[1;32m----> 7\u001b[1;33m \u001b[1;32mfrom\u001b[0m \u001b[1;33m.\u001b[0m\u001b[0mgd\u001b[0m \u001b[1;32mimport\u001b[0m \u001b[0mGD\u001b[0m\u001b[1;33m\u001b[0m\u001b[1;33m\u001b[0m\u001b[0m\n\u001b[0m\u001b[0;32m      8\u001b[0m \u001b[1;32mfrom\u001b[0m \u001b[1;33m.\u001b[0m\u001b[0magd\u001b[0m \u001b[1;32mimport\u001b[0m \u001b[0mAGD\u001b[0m\u001b[1;33m\u001b[0m\u001b[1;33m\u001b[0m\u001b[0m\n\u001b[0;32m      9\u001b[0m \u001b[1;32mfrom\u001b[0m \u001b[1;33m.\u001b[0m\u001b[0mbfgs\u001b[0m \u001b[1;32mimport\u001b[0m \u001b[0mBFGS\u001b[0m\u001b[1;33m\u001b[0m\u001b[1;33m\u001b[0m\u001b[0m\n",
      "\u001b[1;32mc:\\users\\shreya johri\\appdata\\local\\programs\\python\\python37\\lib\\site-packages\\tick\\solver\\gd.py\u001b[0m in \u001b[0;36m<module>\u001b[1;34m\u001b[0m\n\u001b[0;32m      4\u001b[0m \u001b[1;32mfrom\u001b[0m \u001b[0mnumpy\u001b[0m\u001b[1;33m.\u001b[0m\u001b[0mlinalg\u001b[0m \u001b[1;32mimport\u001b[0m \u001b[0mnorm\u001b[0m\u001b[1;33m\u001b[0m\u001b[1;33m\u001b[0m\u001b[0m\n\u001b[0;32m      5\u001b[0m \u001b[1;33m\u001b[0m\u001b[0m\n\u001b[1;32m----> 6\u001b[1;33m \u001b[1;32mfrom\u001b[0m \u001b[1;33m.\u001b[0m\u001b[0mbase\u001b[0m \u001b[1;32mimport\u001b[0m \u001b[0mSolverFirstOrder\u001b[0m\u001b[1;33m\u001b[0m\u001b[1;33m\u001b[0m\u001b[0m\n\u001b[0m\u001b[0;32m      7\u001b[0m \u001b[1;32mfrom\u001b[0m \u001b[1;33m.\u001b[0m\u001b[0mbase\u001b[0m\u001b[1;33m.\u001b[0m\u001b[0mutils\u001b[0m \u001b[1;32mimport\u001b[0m \u001b[0mrelative_distance\u001b[0m\u001b[1;33m\u001b[0m\u001b[1;33m\u001b[0m\u001b[0m\n\u001b[0;32m      8\u001b[0m \u001b[1;33m\u001b[0m\u001b[0m\n",
      "\u001b[1;32mc:\\users\\shreya johri\\appdata\\local\\programs\\python\\python37\\lib\\site-packages\\tick\\solver\\base\\__init__.py\u001b[0m in \u001b[0;36m<module>\u001b[1;34m\u001b[0m\n\u001b[0;32m      1\u001b[0m \u001b[1;31m# License: BSD 3 clause\u001b[0m\u001b[1;33m\u001b[0m\u001b[1;33m\u001b[0m\u001b[1;33m\u001b[0m\u001b[0m\n\u001b[0;32m      2\u001b[0m \u001b[1;33m\u001b[0m\u001b[0m\n\u001b[1;32m----> 3\u001b[1;33m \u001b[1;32mfrom\u001b[0m \u001b[0mtick\u001b[0m\u001b[1;33m.\u001b[0m\u001b[0msolver\u001b[0m\u001b[1;33m.\u001b[0m\u001b[0mbase\u001b[0m\u001b[1;33m.\u001b[0m\u001b[0msolver\u001b[0m \u001b[1;32mimport\u001b[0m \u001b[0mSolver\u001b[0m\u001b[1;33m\u001b[0m\u001b[1;33m\u001b[0m\u001b[0m\n\u001b[0m\u001b[0;32m      4\u001b[0m \u001b[1;32mfrom\u001b[0m \u001b[0mtick\u001b[0m\u001b[1;33m.\u001b[0m\u001b[0msolver\u001b[0m\u001b[1;33m.\u001b[0m\u001b[0mbase\u001b[0m\u001b[1;33m.\u001b[0m\u001b[0mfirst_order\u001b[0m \u001b[1;32mimport\u001b[0m \u001b[0mSolverFirstOrder\u001b[0m\u001b[1;33m\u001b[0m\u001b[1;33m\u001b[0m\u001b[0m\n\u001b[0;32m      5\u001b[0m \u001b[1;32mfrom\u001b[0m \u001b[0mtick\u001b[0m\u001b[1;33m.\u001b[0m\u001b[0msolver\u001b[0m\u001b[1;33m.\u001b[0m\u001b[0mbase\u001b[0m\u001b[1;33m.\u001b[0m\u001b[0msto\u001b[0m \u001b[1;32mimport\u001b[0m \u001b[0mSolverSto\u001b[0m\u001b[1;33m\u001b[0m\u001b[1;33m\u001b[0m\u001b[0m\n",
      "\u001b[1;32mc:\\users\\shreya johri\\appdata\\local\\programs\\python\\python37\\lib\\site-packages\\tick\\solver\\base\\solver.py\u001b[0m in \u001b[0;36m<module>\u001b[1;34m\u001b[0m\n\u001b[0;32m      5\u001b[0m \u001b[1;33m\u001b[0m\u001b[0m\n\u001b[0;32m      6\u001b[0m \u001b[1;32mfrom\u001b[0m \u001b[0mtick\u001b[0m\u001b[1;33m.\u001b[0m\u001b[0mbase\u001b[0m \u001b[1;32mimport\u001b[0m \u001b[0mBase\u001b[0m\u001b[1;33m\u001b[0m\u001b[1;33m\u001b[0m\u001b[0m\n\u001b[1;32m----> 7\u001b[1;33m \u001b[1;32mfrom\u001b[0m \u001b[0mtick\u001b[0m\u001b[1;33m.\u001b[0m\u001b[0msolver\u001b[0m\u001b[1;33m.\u001b[0m\u001b[0mhistory\u001b[0m \u001b[1;32mimport\u001b[0m \u001b[0mHistory\u001b[0m\u001b[1;33m\u001b[0m\u001b[1;33m\u001b[0m\u001b[0m\n\u001b[0m\u001b[0;32m      8\u001b[0m \u001b[1;33m\u001b[0m\u001b[0m\n\u001b[0;32m      9\u001b[0m \u001b[1;33m\u001b[0m\u001b[0m\n",
      "\u001b[1;32mc:\\users\\shreya johri\\appdata\\local\\programs\\python\\python37\\lib\\site-packages\\tick\\solver\\history\\__init__.py\u001b[0m in \u001b[0;36m<module>\u001b[1;34m\u001b[0m\n\u001b[0;32m      3\u001b[0m \u001b[1;31m# import tick.base\u001b[0m\u001b[1;33m\u001b[0m\u001b[1;33m\u001b[0m\u001b[1;33m\u001b[0m\u001b[0m\n\u001b[0;32m      4\u001b[0m \u001b[1;33m\u001b[0m\u001b[0m\n\u001b[1;32m----> 5\u001b[1;33m \u001b[1;32mfrom\u001b[0m \u001b[1;33m.\u001b[0m\u001b[0mhistory\u001b[0m \u001b[1;32mimport\u001b[0m \u001b[0mHistory\u001b[0m\u001b[1;33m\u001b[0m\u001b[1;33m\u001b[0m\u001b[0m\n\u001b[0m\u001b[0;32m      6\u001b[0m \u001b[1;33m\u001b[0m\u001b[0m\n\u001b[0;32m      7\u001b[0m \u001b[0m__all__\u001b[0m \u001b[1;33m=\u001b[0m \u001b[1;33m[\u001b[0m\u001b[1;34m\"History\"\u001b[0m\u001b[1;33m]\u001b[0m\u001b[1;33m\u001b[0m\u001b[1;33m\u001b[0m\u001b[0m\n",
      "\u001b[1;32mc:\\users\\shreya johri\\appdata\\local\\programs\\python\\python37\\lib\\site-packages\\tick\\solver\\history\\history.py\u001b[0m in \u001b[0;36m<module>\u001b[1;34m\u001b[0m\n\u001b[0;32m      2\u001b[0m \u001b[1;33m\u001b[0m\u001b[0m\n\u001b[0;32m      3\u001b[0m \u001b[1;32mfrom\u001b[0m \u001b[0mcollections\u001b[0m \u001b[1;32mimport\u001b[0m \u001b[0mdefaultdict\u001b[0m\u001b[1;33m\u001b[0m\u001b[1;33m\u001b[0m\u001b[0m\n\u001b[1;32m----> 4\u001b[1;33m \u001b[1;32mimport\u001b[0m \u001b[0mdill\u001b[0m\u001b[1;33m\u001b[0m\u001b[1;33m\u001b[0m\u001b[0m\n\u001b[0m\u001b[0;32m      5\u001b[0m \u001b[1;33m\u001b[0m\u001b[0m\n\u001b[0;32m      6\u001b[0m \u001b[1;32mimport\u001b[0m \u001b[0mnumpy\u001b[0m \u001b[1;32mas\u001b[0m \u001b[0mnp\u001b[0m\u001b[1;33m\u001b[0m\u001b[1;33m\u001b[0m\u001b[0m\n",
      "\u001b[1;31mModuleNotFoundError\u001b[0m: No module named 'dill'"
     ]
    }
   ],
   "source": [
    "from tick.survival import CoxRegression\n",
    "cph = CoxRegression(penalty=\"l2\")"
   ]
  },
  {
   "cell_type": "code",
   "execution_count": null,
   "metadata": {},
   "outputs": [],
   "source": []
  },
  {
   "cell_type": "code",
   "execution_count": null,
   "metadata": {},
   "outputs": [],
   "source": []
  },
  {
   "cell_type": "code",
   "execution_count": null,
   "metadata": {},
   "outputs": [],
   "source": []
  },
  {
   "cell_type": "code",
   "execution_count": null,
   "metadata": {},
   "outputs": [],
   "source": [
    "# accuracies_test_list = pd.DataFrame(index=pd.Series(range(2,X_train.shape[0])), columns = pd.Series(range(1,X_train.shape[1])))\n",
    "# accuracies_train_list = pd.DataFrame(index=pd.Series(range(2,X_train.shape[0])), columns = pd.Series(range(1,X_train.shape[1])))\n",
    "# for i in tqdm(range(2,X_train.shape[0])):\n",
    "#     for j in range(1,X_train.shape[1]):\n",
    "#         n_neighbors = i\n",
    "#         random_state = 0\n",
    "#         nca = make_pipeline(StandardScaler(),NeighborhoodComponentsAnalysis(n_components=j,random_state=random_state))\n",
    "#         # Fit the model\n",
    "#         nca.fit(X_train, y_train)\n",
    "#         # Fit a nearest neighbor classifier on the embedded training set\n",
    "#         knn = KNeighborsClassifier(n_neighbors=n_neighbors)\n",
    "#         knn.fit(nca.transform(X_train), y_train)\n",
    "#         # Compute the nearest neighbor accuracy on the embedded test set\n",
    "#         acc_knn_test = knn.score(nca.transform(X_test), y_test)\n",
    "#         acc_knn_train = knn.score(nca.transform(X_train), y_train)\n",
    "#         accuracies_test_list.iloc[i-2,j-1] = acc_knn_test\n",
    "#         accuracies_train_list.iloc[i-2,j-1] = acc_knn_train"
   ]
  },
  {
   "cell_type": "code",
   "execution_count": 14,
   "metadata": {},
   "outputs": [],
   "source": [
    "X = data_frame.drop(\"y\", axis=1)\n",
    "y = data_frame.iloc[:,data_frame.shape[1]-1]\n",
    "nca = NeighborhoodComponentsAnalysis(n_components=15,random_state=3120)\n",
    "nca.fit(X, y)\n",
    "# Fit a nearest neighbor classifier on the embedded training set\n",
    "knn = KNeighborsClassifier(n_neighbors=16)\n",
    "knn.fit(nca.transform(X), y)\n",
    "# Compute the nearest neighbor accuracy on the embedded test set\n",
    "acc_knn = knn.score(nca.transform(X), y)"
   ]
  },
  {
   "cell_type": "code",
   "execution_count": 31,
   "metadata": {},
   "outputs": [],
   "source": [
    "m=nca.components_"
   ]
  },
  {
   "cell_type": "code",
   "execution_count": 33,
   "metadata": {},
   "outputs": [
    {
     "data": {
      "text/html": [
       "<div>\n",
       "<style scoped>\n",
       "    .dataframe tbody tr th:only-of-type {\n",
       "        vertical-align: middle;\n",
       "    }\n",
       "\n",
       "    .dataframe tbody tr th {\n",
       "        vertical-align: top;\n",
       "    }\n",
       "\n",
       "    .dataframe thead th {\n",
       "        text-align: right;\n",
       "    }\n",
       "</style>\n",
       "<table border=\"1\" class=\"dataframe\">\n",
       "  <thead>\n",
       "    <tr style=\"text-align: right;\">\n",
       "      <th></th>\n",
       "      <th>0</th>\n",
       "      <th>1</th>\n",
       "      <th>2</th>\n",
       "      <th>3</th>\n",
       "      <th>4</th>\n",
       "      <th>5</th>\n",
       "      <th>6</th>\n",
       "      <th>7</th>\n",
       "      <th>8</th>\n",
       "      <th>9</th>\n",
       "      <th>...</th>\n",
       "      <th>538</th>\n",
       "      <th>539</th>\n",
       "      <th>540</th>\n",
       "      <th>541</th>\n",
       "      <th>542</th>\n",
       "      <th>543</th>\n",
       "      <th>544</th>\n",
       "      <th>545</th>\n",
       "      <th>546</th>\n",
       "      <th>547</th>\n",
       "    </tr>\n",
       "  </thead>\n",
       "  <tbody>\n",
       "    <tr>\n",
       "      <td>0</td>\n",
       "      <td>0.021916</td>\n",
       "      <td>0.020600</td>\n",
       "      <td>0.021085</td>\n",
       "      <td>0.025111</td>\n",
       "      <td>0.055169</td>\n",
       "      <td>0.053574</td>\n",
       "      <td>0.037749</td>\n",
       "      <td>0.037554</td>\n",
       "      <td>0.025169</td>\n",
       "      <td>0.101590</td>\n",
       "      <td>...</td>\n",
       "      <td>-0.037983</td>\n",
       "      <td>-0.031431</td>\n",
       "      <td>0.098355</td>\n",
       "      <td>0.034835</td>\n",
       "      <td>0.004170</td>\n",
       "      <td>0.057143</td>\n",
       "      <td>0.011024</td>\n",
       "      <td>0.097538</td>\n",
       "      <td>0.062407</td>\n",
       "      <td>0.055273</td>\n",
       "    </tr>\n",
       "    <tr>\n",
       "      <td>1</td>\n",
       "      <td>0.002225</td>\n",
       "      <td>0.001144</td>\n",
       "      <td>0.002150</td>\n",
       "      <td>0.070228</td>\n",
       "      <td>0.086325</td>\n",
       "      <td>0.006538</td>\n",
       "      <td>0.013049</td>\n",
       "      <td>0.027807</td>\n",
       "      <td>0.026033</td>\n",
       "      <td>0.007647</td>\n",
       "      <td>...</td>\n",
       "      <td>0.066966</td>\n",
       "      <td>0.078385</td>\n",
       "      <td>-0.011240</td>\n",
       "      <td>0.097228</td>\n",
       "      <td>0.022494</td>\n",
       "      <td>-0.075546</td>\n",
       "      <td>0.011973</td>\n",
       "      <td>0.041172</td>\n",
       "      <td>0.061035</td>\n",
       "      <td>0.053267</td>\n",
       "    </tr>\n",
       "    <tr>\n",
       "      <td>2</td>\n",
       "      <td>-0.015247</td>\n",
       "      <td>-0.015037</td>\n",
       "      <td>-0.015160</td>\n",
       "      <td>0.012787</td>\n",
       "      <td>0.033525</td>\n",
       "      <td>-0.016997</td>\n",
       "      <td>-0.026139</td>\n",
       "      <td>0.062794</td>\n",
       "      <td>-0.040283</td>\n",
       "      <td>-0.042645</td>\n",
       "      <td>...</td>\n",
       "      <td>0.016987</td>\n",
       "      <td>-0.003568</td>\n",
       "      <td>-0.031446</td>\n",
       "      <td>-0.023250</td>\n",
       "      <td>0.013904</td>\n",
       "      <td>-0.020681</td>\n",
       "      <td>-0.069812</td>\n",
       "      <td>0.013304</td>\n",
       "      <td>0.016848</td>\n",
       "      <td>0.012406</td>\n",
       "    </tr>\n",
       "    <tr>\n",
       "      <td>3</td>\n",
       "      <td>-0.120602</td>\n",
       "      <td>-0.120648</td>\n",
       "      <td>-0.120944</td>\n",
       "      <td>-0.124699</td>\n",
       "      <td>-0.110111</td>\n",
       "      <td>0.084422</td>\n",
       "      <td>-0.108136</td>\n",
       "      <td>0.001885</td>\n",
       "      <td>-0.113488</td>\n",
       "      <td>0.001378</td>\n",
       "      <td>...</td>\n",
       "      <td>-0.102470</td>\n",
       "      <td>-0.046117</td>\n",
       "      <td>0.018709</td>\n",
       "      <td>-0.053475</td>\n",
       "      <td>-0.015528</td>\n",
       "      <td>0.023472</td>\n",
       "      <td>0.163949</td>\n",
       "      <td>-0.044554</td>\n",
       "      <td>-0.092480</td>\n",
       "      <td>-0.076519</td>\n",
       "    </tr>\n",
       "    <tr>\n",
       "      <td>4</td>\n",
       "      <td>-0.128948</td>\n",
       "      <td>-0.128665</td>\n",
       "      <td>-0.129148</td>\n",
       "      <td>-0.076420</td>\n",
       "      <td>-0.091973</td>\n",
       "      <td>-0.043231</td>\n",
       "      <td>-0.118065</td>\n",
       "      <td>-0.046768</td>\n",
       "      <td>-0.081184</td>\n",
       "      <td>-0.112035</td>\n",
       "      <td>...</td>\n",
       "      <td>-0.081201</td>\n",
       "      <td>0.038488</td>\n",
       "      <td>-0.041292</td>\n",
       "      <td>0.110670</td>\n",
       "      <td>-0.009071</td>\n",
       "      <td>-0.000458</td>\n",
       "      <td>-0.037294</td>\n",
       "      <td>-0.026874</td>\n",
       "      <td>-0.142306</td>\n",
       "      <td>-0.092496</td>\n",
       "    </tr>\n",
       "    <tr>\n",
       "      <td>5</td>\n",
       "      <td>0.058445</td>\n",
       "      <td>0.058373</td>\n",
       "      <td>0.056726</td>\n",
       "      <td>0.034450</td>\n",
       "      <td>-0.021747</td>\n",
       "      <td>-0.002523</td>\n",
       "      <td>-0.034818</td>\n",
       "      <td>-0.002497</td>\n",
       "      <td>0.027601</td>\n",
       "      <td>-0.031904</td>\n",
       "      <td>...</td>\n",
       "      <td>0.019380</td>\n",
       "      <td>0.022632</td>\n",
       "      <td>0.016616</td>\n",
       "      <td>0.032474</td>\n",
       "      <td>-0.064707</td>\n",
       "      <td>0.087955</td>\n",
       "      <td>0.013375</td>\n",
       "      <td>0.002162</td>\n",
       "      <td>0.014491</td>\n",
       "      <td>-0.031473</td>\n",
       "    </tr>\n",
       "    <tr>\n",
       "      <td>6</td>\n",
       "      <td>-0.071863</td>\n",
       "      <td>-0.071748</td>\n",
       "      <td>-0.069468</td>\n",
       "      <td>-0.043123</td>\n",
       "      <td>0.012393</td>\n",
       "      <td>0.014029</td>\n",
       "      <td>-0.030876</td>\n",
       "      <td>0.016109</td>\n",
       "      <td>-0.016195</td>\n",
       "      <td>-0.034929</td>\n",
       "      <td>...</td>\n",
       "      <td>0.027185</td>\n",
       "      <td>0.004897</td>\n",
       "      <td>0.001559</td>\n",
       "      <td>-0.003311</td>\n",
       "      <td>0.004030</td>\n",
       "      <td>0.015260</td>\n",
       "      <td>-0.013955</td>\n",
       "      <td>0.008942</td>\n",
       "      <td>-0.030837</td>\n",
       "      <td>-0.003882</td>\n",
       "    </tr>\n",
       "    <tr>\n",
       "      <td>7</td>\n",
       "      <td>-0.057955</td>\n",
       "      <td>-0.056461</td>\n",
       "      <td>-0.056842</td>\n",
       "      <td>0.011267</td>\n",
       "      <td>0.052045</td>\n",
       "      <td>-0.019854</td>\n",
       "      <td>-0.038378</td>\n",
       "      <td>-0.089140</td>\n",
       "      <td>-0.109029</td>\n",
       "      <td>-0.095885</td>\n",
       "      <td>...</td>\n",
       "      <td>0.081768</td>\n",
       "      <td>-0.005705</td>\n",
       "      <td>-0.039697</td>\n",
       "      <td>0.052733</td>\n",
       "      <td>0.002173</td>\n",
       "      <td>-0.049687</td>\n",
       "      <td>-0.071084</td>\n",
       "      <td>-0.083300</td>\n",
       "      <td>0.034114</td>\n",
       "      <td>0.066630</td>\n",
       "    </tr>\n",
       "    <tr>\n",
       "      <td>8</td>\n",
       "      <td>-0.015213</td>\n",
       "      <td>-0.014182</td>\n",
       "      <td>-0.012894</td>\n",
       "      <td>-0.031120</td>\n",
       "      <td>-0.027413</td>\n",
       "      <td>-0.034636</td>\n",
       "      <td>-0.044782</td>\n",
       "      <td>-0.000047</td>\n",
       "      <td>0.000936</td>\n",
       "      <td>0.080301</td>\n",
       "      <td>...</td>\n",
       "      <td>-0.073772</td>\n",
       "      <td>-0.003201</td>\n",
       "      <td>0.006754</td>\n",
       "      <td>-0.020024</td>\n",
       "      <td>-0.019870</td>\n",
       "      <td>-0.002181</td>\n",
       "      <td>-0.026367</td>\n",
       "      <td>-0.006201</td>\n",
       "      <td>-0.002007</td>\n",
       "      <td>-0.074407</td>\n",
       "    </tr>\n",
       "    <tr>\n",
       "      <td>9</td>\n",
       "      <td>-0.058981</td>\n",
       "      <td>-0.058635</td>\n",
       "      <td>-0.058515</td>\n",
       "      <td>-0.089173</td>\n",
       "      <td>0.046763</td>\n",
       "      <td>0.026924</td>\n",
       "      <td>-0.010855</td>\n",
       "      <td>0.034209</td>\n",
       "      <td>0.003539</td>\n",
       "      <td>0.033091</td>\n",
       "      <td>...</td>\n",
       "      <td>-0.028944</td>\n",
       "      <td>-0.061533</td>\n",
       "      <td>-0.027856</td>\n",
       "      <td>0.021628</td>\n",
       "      <td>0.000318</td>\n",
       "      <td>0.025485</td>\n",
       "      <td>0.012991</td>\n",
       "      <td>0.019252</td>\n",
       "      <td>0.109099</td>\n",
       "      <td>-0.030487</td>\n",
       "    </tr>\n",
       "    <tr>\n",
       "      <td>10</td>\n",
       "      <td>-0.057260</td>\n",
       "      <td>-0.058090</td>\n",
       "      <td>-0.057604</td>\n",
       "      <td>0.013998</td>\n",
       "      <td>-0.092881</td>\n",
       "      <td>0.052412</td>\n",
       "      <td>-0.054954</td>\n",
       "      <td>-0.061673</td>\n",
       "      <td>-0.090154</td>\n",
       "      <td>-0.102789</td>\n",
       "      <td>...</td>\n",
       "      <td>-0.003211</td>\n",
       "      <td>0.068174</td>\n",
       "      <td>0.030330</td>\n",
       "      <td>0.000420</td>\n",
       "      <td>-0.007877</td>\n",
       "      <td>-0.050487</td>\n",
       "      <td>0.003480</td>\n",
       "      <td>-0.044473</td>\n",
       "      <td>-0.091450</td>\n",
       "      <td>0.024811</td>\n",
       "    </tr>\n",
       "    <tr>\n",
       "      <td>11</td>\n",
       "      <td>0.068087</td>\n",
       "      <td>0.068726</td>\n",
       "      <td>0.067855</td>\n",
       "      <td>-0.029753</td>\n",
       "      <td>0.068232</td>\n",
       "      <td>-0.075527</td>\n",
       "      <td>0.089899</td>\n",
       "      <td>0.087680</td>\n",
       "      <td>0.142199</td>\n",
       "      <td>0.065452</td>\n",
       "      <td>...</td>\n",
       "      <td>-0.003095</td>\n",
       "      <td>-0.069100</td>\n",
       "      <td>-0.054284</td>\n",
       "      <td>-0.128174</td>\n",
       "      <td>0.036812</td>\n",
       "      <td>0.031947</td>\n",
       "      <td>0.033387</td>\n",
       "      <td>0.080898</td>\n",
       "      <td>0.058416</td>\n",
       "      <td>-0.015116</td>\n",
       "    </tr>\n",
       "    <tr>\n",
       "      <td>12</td>\n",
       "      <td>-0.025162</td>\n",
       "      <td>-0.025840</td>\n",
       "      <td>-0.025586</td>\n",
       "      <td>0.021899</td>\n",
       "      <td>0.011490</td>\n",
       "      <td>-0.003474</td>\n",
       "      <td>-0.034184</td>\n",
       "      <td>-0.054867</td>\n",
       "      <td>-0.054795</td>\n",
       "      <td>-0.079878</td>\n",
       "      <td>...</td>\n",
       "      <td>0.026484</td>\n",
       "      <td>0.107908</td>\n",
       "      <td>0.034654</td>\n",
       "      <td>0.065121</td>\n",
       "      <td>0.064213</td>\n",
       "      <td>0.074489</td>\n",
       "      <td>-0.039271</td>\n",
       "      <td>-0.076832</td>\n",
       "      <td>0.006181</td>\n",
       "      <td>0.002773</td>\n",
       "    </tr>\n",
       "    <tr>\n",
       "      <td>13</td>\n",
       "      <td>-0.049347</td>\n",
       "      <td>-0.049348</td>\n",
       "      <td>-0.050699</td>\n",
       "      <td>0.006808</td>\n",
       "      <td>-0.029352</td>\n",
       "      <td>-0.062640</td>\n",
       "      <td>-0.059415</td>\n",
       "      <td>-0.100862</td>\n",
       "      <td>-0.065345</td>\n",
       "      <td>-0.055757</td>\n",
       "      <td>...</td>\n",
       "      <td>-0.023217</td>\n",
       "      <td>0.021820</td>\n",
       "      <td>0.078749</td>\n",
       "      <td>-0.055765</td>\n",
       "      <td>0.063932</td>\n",
       "      <td>0.055366</td>\n",
       "      <td>-0.050325</td>\n",
       "      <td>-0.050868</td>\n",
       "      <td>-0.002541</td>\n",
       "      <td>-0.004939</td>\n",
       "    </tr>\n",
       "    <tr>\n",
       "      <td>14</td>\n",
       "      <td>0.018090</td>\n",
       "      <td>0.018179</td>\n",
       "      <td>0.019297</td>\n",
       "      <td>0.006077</td>\n",
       "      <td>0.033579</td>\n",
       "      <td>0.010133</td>\n",
       "      <td>0.087620</td>\n",
       "      <td>0.031768</td>\n",
       "      <td>0.026770</td>\n",
       "      <td>0.066191</td>\n",
       "      <td>...</td>\n",
       "      <td>-0.021656</td>\n",
       "      <td>-0.010411</td>\n",
       "      <td>0.040539</td>\n",
       "      <td>-0.015888</td>\n",
       "      <td>-0.016369</td>\n",
       "      <td>-0.011051</td>\n",
       "      <td>0.028558</td>\n",
       "      <td>-0.019566</td>\n",
       "      <td>0.011565</td>\n",
       "      <td>0.089231</td>\n",
       "    </tr>\n",
       "  </tbody>\n",
       "</table>\n",
       "<p>15 rows × 548 columns</p>\n",
       "</div>"
      ],
      "text/plain": [
       "         0         1         2         3         4         5         6    \\\n",
       "0   0.021916  0.020600  0.021085  0.025111  0.055169  0.053574  0.037749   \n",
       "1   0.002225  0.001144  0.002150  0.070228  0.086325  0.006538  0.013049   \n",
       "2  -0.015247 -0.015037 -0.015160  0.012787  0.033525 -0.016997 -0.026139   \n",
       "3  -0.120602 -0.120648 -0.120944 -0.124699 -0.110111  0.084422 -0.108136   \n",
       "4  -0.128948 -0.128665 -0.129148 -0.076420 -0.091973 -0.043231 -0.118065   \n",
       "5   0.058445  0.058373  0.056726  0.034450 -0.021747 -0.002523 -0.034818   \n",
       "6  -0.071863 -0.071748 -0.069468 -0.043123  0.012393  0.014029 -0.030876   \n",
       "7  -0.057955 -0.056461 -0.056842  0.011267  0.052045 -0.019854 -0.038378   \n",
       "8  -0.015213 -0.014182 -0.012894 -0.031120 -0.027413 -0.034636 -0.044782   \n",
       "9  -0.058981 -0.058635 -0.058515 -0.089173  0.046763  0.026924 -0.010855   \n",
       "10 -0.057260 -0.058090 -0.057604  0.013998 -0.092881  0.052412 -0.054954   \n",
       "11  0.068087  0.068726  0.067855 -0.029753  0.068232 -0.075527  0.089899   \n",
       "12 -0.025162 -0.025840 -0.025586  0.021899  0.011490 -0.003474 -0.034184   \n",
       "13 -0.049347 -0.049348 -0.050699  0.006808 -0.029352 -0.062640 -0.059415   \n",
       "14  0.018090  0.018179  0.019297  0.006077  0.033579  0.010133  0.087620   \n",
       "\n",
       "         7         8         9    ...       538       539       540       541  \\\n",
       "0   0.037554  0.025169  0.101590  ... -0.037983 -0.031431  0.098355  0.034835   \n",
       "1   0.027807  0.026033  0.007647  ...  0.066966  0.078385 -0.011240  0.097228   \n",
       "2   0.062794 -0.040283 -0.042645  ...  0.016987 -0.003568 -0.031446 -0.023250   \n",
       "3   0.001885 -0.113488  0.001378  ... -0.102470 -0.046117  0.018709 -0.053475   \n",
       "4  -0.046768 -0.081184 -0.112035  ... -0.081201  0.038488 -0.041292  0.110670   \n",
       "5  -0.002497  0.027601 -0.031904  ...  0.019380  0.022632  0.016616  0.032474   \n",
       "6   0.016109 -0.016195 -0.034929  ...  0.027185  0.004897  0.001559 -0.003311   \n",
       "7  -0.089140 -0.109029 -0.095885  ...  0.081768 -0.005705 -0.039697  0.052733   \n",
       "8  -0.000047  0.000936  0.080301  ... -0.073772 -0.003201  0.006754 -0.020024   \n",
       "9   0.034209  0.003539  0.033091  ... -0.028944 -0.061533 -0.027856  0.021628   \n",
       "10 -0.061673 -0.090154 -0.102789  ... -0.003211  0.068174  0.030330  0.000420   \n",
       "11  0.087680  0.142199  0.065452  ... -0.003095 -0.069100 -0.054284 -0.128174   \n",
       "12 -0.054867 -0.054795 -0.079878  ...  0.026484  0.107908  0.034654  0.065121   \n",
       "13 -0.100862 -0.065345 -0.055757  ... -0.023217  0.021820  0.078749 -0.055765   \n",
       "14  0.031768  0.026770  0.066191  ... -0.021656 -0.010411  0.040539 -0.015888   \n",
       "\n",
       "         542       543       544       545       546       547  \n",
       "0   0.004170  0.057143  0.011024  0.097538  0.062407  0.055273  \n",
       "1   0.022494 -0.075546  0.011973  0.041172  0.061035  0.053267  \n",
       "2   0.013904 -0.020681 -0.069812  0.013304  0.016848  0.012406  \n",
       "3  -0.015528  0.023472  0.163949 -0.044554 -0.092480 -0.076519  \n",
       "4  -0.009071 -0.000458 -0.037294 -0.026874 -0.142306 -0.092496  \n",
       "5  -0.064707  0.087955  0.013375  0.002162  0.014491 -0.031473  \n",
       "6   0.004030  0.015260 -0.013955  0.008942 -0.030837 -0.003882  \n",
       "7   0.002173 -0.049687 -0.071084 -0.083300  0.034114  0.066630  \n",
       "8  -0.019870 -0.002181 -0.026367 -0.006201 -0.002007 -0.074407  \n",
       "9   0.000318  0.025485  0.012991  0.019252  0.109099 -0.030487  \n",
       "10 -0.007877 -0.050487  0.003480 -0.044473 -0.091450  0.024811  \n",
       "11  0.036812  0.031947  0.033387  0.080898  0.058416 -0.015116  \n",
       "12  0.064213  0.074489 -0.039271 -0.076832  0.006181  0.002773  \n",
       "13  0.063932  0.055366 -0.050325 -0.050868 -0.002541 -0.004939  \n",
       "14 -0.016369 -0.011051  0.028558 -0.019566  0.011565  0.089231  \n",
       "\n",
       "[15 rows x 548 columns]"
      ]
     },
     "execution_count": 33,
     "metadata": {},
     "output_type": "execute_result"
    }
   ],
   "source": [
    "pd.DataFrame(m)"
   ]
  },
  {
   "cell_type": "code",
   "execution_count": 18,
   "metadata": {},
   "outputs": [],
   "source": [
    "# pd.DataFrame(nca.transform(X)).to_csv(\"opt_knn_mirna.csv\")"
   ]
  },
  {
   "cell_type": "code",
   "execution_count": 39,
   "metadata": {},
   "outputs": [
    {
     "data": {
      "application/vnd.jupyter.widget-view+json": {
       "model_id": "816e66b007514fdeaaa3d2f81da65bb2",
       "version_major": 2,
       "version_minor": 0
      },
      "text/plain": [
       "HBox(children=(IntProgress(value=0, max=33), HTML(value='')))"
      ]
     },
     "metadata": {},
     "output_type": "display_data"
    },
    {
     "name": "stdout",
     "output_type": "stream",
     "text": [
      "\n"
     ]
    }
   ],
   "source": [
    "accuracies_test_list = []\n",
    "accuracies_train_list = []\n",
    "for i in tqdm(range(2,35)):\n",
    "    random_state = 0\n",
    "    nca = NeighborhoodComponentsAnalysis(n_components=16,random_state=3120)\n",
    "    # Fit the model\n",
    "    score_te=[]\n",
    "    score_tr=[]\n",
    "    for j in range(0,5):\n",
    "        X_test = data_frame.iloc[int(j*509/5):int((j+1)*509/5),:].drop(\"y\", axis=1)\n",
    "        y_test = data_frame.iloc[int(j*509/5):int((j+1)*509/5),data_frame.shape[1]-1]\n",
    "        X_train = data_frame.drop(data_frame.index[range(int(j*509/5),int((j+1)*509/5))], axis=0).drop(\"y\", axis=1)\n",
    "        y_train = data_frame.drop(data_frame.index[range(int(j*509/5),int((j+1)*509/5))], axis=0).loc[:,\"y\"]\n",
    "        nca.fit(X_train, y_train)\n",
    "        # Fit a nearest neighbor classifier on the embedded training set\n",
    "        knn = KNeighborsClassifier(n_neighbors=i)\n",
    "        knn.fit(nca.transform(X_train), y_train)\n",
    "        # Compute the nearest neighbor accuracy on the embedded test set\n",
    "        acc_knn_test = knn.score(nca.transform(X_test), y_test)\n",
    "        acc_knn_train = knn.score(nca.transform(X_train), y_train)\n",
    "        score_te.append(acc_knn_test)\n",
    "        score_tr.append(acc_knn_train)\n",
    "    accuracies_test_list.append(np.mean(score_te))\n",
    "    accuracies_train_list.append(np.mean(score_tr))"
   ]
  },
  {
   "cell_type": "code",
   "execution_count": 31,
   "metadata": {},
   "outputs": [
    {
     "data": {
      "image/png": "[encoded data removed]",
      "text/plain": [
       "<Figure size 432x288 with 1 Axes>"
      ]
     },
     "metadata": {
      "needs_background": "light"
     },
     "output_type": "display_data"
    }
   ],
   "source": [
    "plt.plot(range(2,35),accuracies_test_list, '.-' ,label=\"test\")\n",
    "plt.plot(range(2,35),accuracies_train_list, '.-' , label=\"train\")\n",
    "plt.legend()\n",
    "plt.xlabel(\"no of nearest neighbours\")\n",
    "plt.ylabel(\"accuracy\")\n",
    "plt.grid()"
   ]
  },
  {
   "cell_type": "code",
   "execution_count": 37,
   "metadata": {},
   "outputs": [
    {
     "name": "stdout",
     "output_type": "stream",
     "text": [
      "15\n"
     ]
    }
   ],
   "source": [
    "opt_nn = np.argmax(accuracies_test_list)+2\n",
    "print(opt_nn)"
   ]
  },
  {
   "cell_type": "code",
   "execution_count": 36,
   "metadata": {},
   "outputs": [
    {
     "name": "stdout",
     "output_type": "stream",
     "text": [
      "0.7784313725490196\n"
     ]
    }
   ],
   "source": [
    "max_acc = accuracies_test_list[np.argmax(accuracies_test_list)]\n",
    "print(max_acc)"
   ]
  },
  {
   "cell_type": "code",
   "execution_count": null,
   "metadata": {},
   "outputs": [
    {
     "data": {
      "application/vnd.jupyter.widget-view+json": {
       "model_id": "e754bf6c28f441e5a2826fa49e3fd0b7",
       "version_major": 2,
       "version_minor": 0
      },
      "text/plain": [
       "HBox(children=(IntProgress(value=0, max=18), HTML(value='')))"
      ]
     },
     "metadata": {},
     "output_type": "display_data"
    }
   ],
   "source": [
    "#grid search\n",
    "accuracies_test_list = pd.DataFrame(index=pd.Series(range(2,20)), columns = pd.Series(range(12,18)))\n",
    "accuracies_train_list = pd.DataFrame(index=pd.Series(range(2,20)), columns = pd.Series(range(12,18)))\n",
    "for i in tqdm(range(2,20)):\n",
    "    random_state = 0\n",
    "    nca = NeighborhoodComponentsAnalysis(n_components=i,random_state=3120)\n",
    "    # Fit the model\n",
    "    for k in range(12,18):\n",
    "        score_te=[]\n",
    "        score_tr=[]\n",
    "        for j in range(0,5):\n",
    "            X_test = data_frame.iloc[int(j*510/5):int((j+1)*510/5),:].drop(\"y\", axis=1)\n",
    "            y_test = data_frame.iloc[int(j*510/5):int((j+1)*510/5),data_frame.shape[1]-1]\n",
    "            X_train = data_frame.drop(data_frame.index[range(int(j*510/5),int((j+1)*510/5))], axis=0).drop(\"y\", axis=1)\n",
    "            y_train = data_frame.drop(data_frame.index[range(int(j*510/5),int((j+1)*510/5))], axis=0).loc[:,\"y\"]\n",
    "            nca.fit(X_train, y_train)\n",
    "            # Fit a nearest neighbor classifier on the embedded training set\n",
    "            knn = KNeighborsClassifier(n_neighbors=k)\n",
    "            knn.fit(nca.transform(X_train), y_train)\n",
    "            # Compute the nearest neighbor accuracy on the embedded test set\n",
    "            acc_knn_test = knn.score(nca.transform(X_test), y_test)\n",
    "            acc_knn_train = knn.score(nca.transform(X_train), y_train)\n",
    "            score_te.append(acc_knn_test)\n",
    "            score_tr.append(acc_knn_train)\n",
    "        accuracies_test_list.iloc[i-2,k-12] = np.mean(score_te)\n",
    "        accuracies_train_list.iloc[i-2,k-12] = np.mean(score_tr)"
   ]
  },
  {
   "cell_type": "code",
   "execution_count": 65,
   "metadata": {},
   "outputs": [
    {
     "data": {
      "text/plain": [
       "array([[0.7294117647058824, 0.723529411764706, 0.7313725490196079,\n",
       "        0.7372549019607844, 0.7352941176470589, 0.7372549019607844],\n",
       "       [0.7254901960784313, 0.7156862745098039, 0.7333333333333334,\n",
       "        0.7313725490196079, 0.7431372549019608, 0.7372549019607844],\n",
       "       [0.7392156862745098, 0.7431372549019608, 0.7490196078431373,\n",
       "        0.7490196078431373, 0.7470588235294118, 0.7450980392156863],\n",
       "       [0.7568627450980392, 0.7568627450980392, 0.7549019607843137,\n",
       "        0.7588235294117647, 0.7568627450980392, 0.7568627450980392],\n",
       "       [0.7509803921568627, 0.7490196078431373, 0.7509803921568627,\n",
       "        0.7568627450980392, 0.7549019607843137, 0.7549019607843137],\n",
       "       [0.7607843137254902, 0.7666666666666666, 0.7666666666666666,\n",
       "        0.7705882352941176, 0.7686274509803922, 0.7686274509803921],\n",
       "       [0.7607843137254902, 0.7666666666666666, 0.7627450980392156,\n",
       "        0.7607843137254902, 0.7686274509803921, 0.7686274509803921],\n",
       "       [0.776470588235294, 0.7725490196078431, 0.7725490196078431,\n",
       "        0.7705882352941176, 0.7745098039215685, 0.7745098039215685],\n",
       "       [0.7627450980392158, 0.7607843137254903, 0.7588235294117647,\n",
       "        0.7627450980392156, 0.7607843137254902, 0.7666666666666666],\n",
       "       [0.7549019607843137, 0.7509803921568629, 0.7490196078431373,\n",
       "        0.7509803921568629, 0.7470588235294119, 0.7490196078431374],\n",
       "       [0.7666666666666666, 0.7568627450980392, 0.7627450980392156,\n",
       "        0.7607843137254902, 0.7647058823529411, 0.7627450980392156],\n",
       "       [0.7627450980392156, 0.7705882352941177, 0.7588235294117647,\n",
       "        0.7686274509803921, 0.7627450980392156, 0.7568627450980392],\n",
       "       [0.7607843137254902, 0.7607843137254902, 0.7627450980392156,\n",
       "        0.7647058823529411, 0.7627450980392156, 0.7607843137254902],\n",
       "       [0.7607843137254902, 0.7705882352941176, 0.7686274509803921,\n",
       "        0.7686274509803921, 0.7725490196078432, 0.7705882352941176],\n",
       "       [0.7725490196078431, 0.7764705882352941, 0.7745098039215687,\n",
       "        0.7784313725490196, 0.7705882352941176, 0.7725490196078431],\n",
       "       [0.7647058823529411, 0.7705882352941176, 0.7647058823529411,\n",
       "        0.7666666666666666, 0.7686274509803921, 0.7666666666666666],\n",
       "       [0.7627450980392156, 0.7686274509803922, 0.7666666666666666,\n",
       "        0.7745098039215685, 0.7627450980392156, 0.7725490196078431],\n",
       "       [0.7627450980392156, 0.7745098039215685, 0.7647058823529411,\n",
       "        0.7686274509803921, 0.7647058823529411, 0.7647058823529411]],\n",
       "      dtype=object)"
      ]
     },
     "execution_count": 65,
     "metadata": {},
     "output_type": "execute_result"
    }
   ],
   "source": [
    "np.array(accuracies_test_list)"
   ]
  },
  {
   "cell_type": "code",
   "execution_count": null,
   "metadata": {},
   "outputs": [],
   "source": [
    "plt.imshow(accuracies_train_list)"
   ]
  },
  {
   "cell_type": "code",
   "execution_count": null,
   "metadata": {},
   "outputs": [],
   "source": []
  },
  {
   "cell_type": "code",
   "execution_count": null,
   "metadata": {},
   "outputs": [],
   "source": [
    "X = data_frame.drop(\"y\", axis=1)\n",
    "y = data_frame.iloc[:,data_frame.shape[1]-1]\n",
    "nca.fit(X, y)\n",
    "# Fit a nearest neighbor classifier on the embedded training set\n",
    "knn = KNeighborsClassifier(n_neighbors=opt_nn)\n",
    "knn.fit(nca.transform(X), y)\n",
    "# Compute the nearest neighbor accuracy on the embedded test set\n",
    "acc_knn = knn.score(nca.transform(X), y)"
   ]
  },
  {
   "cell_type": "code",
   "execution_count": null,
   "metadata": {},
   "outputs": [],
   "source": []
  },
  {
   "cell_type": "code",
   "execution_count": null,
   "metadata": {},
   "outputs": [],
   "source": []
  },
  {
   "cell_type": "code",
   "execution_count": null,
   "metadata": {},
   "outputs": [],
   "source": []
  },
  {
   "cell_type": "code",
   "execution_count": null,
   "metadata": {},
   "outputs": [],
   "source": [
    "#comparing with matlab version - knn\n"
   ]
  },
  {
   "cell_type": "code",
   "execution_count": null,
   "metadata": {},
   "outputs": [],
   "source": [
    "# accuracies_test_list = accuracies_test_list[accuracies_test_list.columns].astype(float)\n",
    "# n_s=accuracies_test_list.iloc[:120,:]\n",
    "# seaborn.heatmap(np.array(accuracies_test_list))\n",
    "plt.plot(accuracies_test_list)"
   ]
  },
  {
   "cell_type": "code",
   "execution_count": null,
   "metadata": {},
   "outputs": [],
   "source": [
    "accuracies_test_list.max()"
   ]
  },
  {
   "cell_type": "code",
   "execution_count": null,
   "metadata": {},
   "outputs": [],
   "source": [
    "plt.plot(accuracies_test_list.max())\n",
    "plt.xlabel(\"Number of components\")\n",
    "plt.ylabel(\"Max test accuracy\")"
   ]
  },
  {
   "cell_type": "code",
   "execution_count": null,
   "metadata": {},
   "outputs": [],
   "source": [
    "plt.plot(accuracies_test_list.max(axis=1))\n",
    "plt.xlabel(\"Number of neighbours\")\n",
    "plt.ylabel(\"Max test accuracy\")"
   ]
  },
  {
   "cell_type": "code",
   "execution_count": null,
   "metadata": {},
   "outputs": [],
   "source": [
    "plt.plot(accuracies_test_list.iloc[:100,7], label=\"Test\")\n",
    "plt.plot(accuracies_train_list.iloc[:100,7], label=\"Train\")\n",
    "plt.legend()"
   ]
  },
  {
   "cell_type": "code",
   "execution_count": null,
   "metadata": {},
   "outputs": [],
   "source": [
    "#find best component\n",
    "te_max=list(accuracies_test_list.max())\n",
    "opt_n_comp=te_max.index(max(te_max))+1"
   ]
  },
  {
   "cell_type": "code",
   "execution_count": null,
   "metadata": {},
   "outputs": [],
   "source": [
    "#find best neighbour\n",
    "te_max_opt=list(accuracies_test_list.iloc[:,opt_n_comp-1])\n",
    "opt_n_nbr = te_max_opt.index(max(te_max_opt))+2"
   ]
  },
  {
   "cell_type": "code",
   "execution_count": null,
   "metadata": {},
   "outputs": [],
   "source": [
    "n_neighbors = opt_n_nbr\n",
    "random_state = 0\n",
    "nca = make_pipeline(StandardScaler(),NeighborhoodComponentsAnalysis(n_components=opt_n_comp,random_state=random_state))\n",
    "cv_test=[]\n",
    "cv_train=[]\n",
    "for i in tqdm(range(0,10)):\n",
    "    X_train, X_test, y_train, y_test = train_test_split(X, y_new, test_size=0.4, stratify=y_new)\n",
    "    # Fit the model\n",
    "    nca.fit(X_train, y_train)\n",
    "    # Fit a nearest neighbor classifier on the embedded training set\n",
    "    knn = KNeighborsClassifier(n_neighbors=n_neighbors)\n",
    "    knn.fit(nca.transform(X_train), y_train)\n",
    "    # Compute the nearest neighbor accuracy on the embedded test set\n",
    "    acc_knn_test = knn.score(nca.transform(X_test), y_test)\n",
    "    acc_knn_train = knn.score(nca.transform(X_train), y_train)\n",
    "    cv_test.append(acc_knn_test)\n",
    "    cv_train.append(acc_knn_train)\n",
    "    print(acc_knn_test,acc_knn_train)\n",
    "print(\"CV errors: \",np.mean(cv_test),np.mean(cv_train))"
   ]
  },
  {
   "cell_type": "code",
   "execution_count": null,
   "metadata": {
    "scrolled": true
   },
   "outputs": [],
   "source": [
    "print(accuracies_test_list[np.argmax(accuracies_test_list)])\n",
    "print(accuracies_train_list[np.argmin(accuracies_train_list)])\n",
    "plt.plot(accuracies_test_list, label=\"test\")\n",
    "plt.plot(accuracies_train_list, label=\"train\")\n",
    "plt.legend()\n",
    "plt.show()"
   ]
  },
  {
   "cell_type": "code",
   "execution_count": null,
   "metadata": {},
   "outputs": [],
   "source": []
  },
  {
   "cell_type": "code",
   "execution_count": null,
   "metadata": {},
   "outputs": [],
   "source": []
  },
  {
   "cell_type": "code",
   "execution_count": null,
   "metadata": {},
   "outputs": [],
   "source": []
  },
  {
   "cell_type": "code",
   "execution_count": null,
   "metadata": {},
   "outputs": [],
   "source": []
  },
  {
   "cell_type": "code",
   "execution_count": null,
   "metadata": {},
   "outputs": [],
   "source": []
  },
  {
   "cell_type": "code",
   "execution_count": null,
   "metadata": {},
   "outputs": [],
   "source": []
  },
  {
   "cell_type": "code",
   "execution_count": null,
   "metadata": {},
   "outputs": [],
   "source": []
  },
  {
   "cell_type": "code",
   "execution_count": null,
   "metadata": {},
   "outputs": [],
   "source": []
  },
  {
   "cell_type": "code",
   "execution_count": null,
   "metadata": {},
   "outputs": [],
   "source": []
  },
  {
   "cell_type": "code",
   "execution_count": null,
   "metadata": {},
   "outputs": [],
   "source": []
  },
  {
   "cell_type": "code",
   "execution_count": null,
   "metadata": {},
   "outputs": [],
   "source": []
  },
  {
   "cell_type": "code",
   "execution_count": null,
   "metadata": {},
   "outputs": [],
   "source": [
    "fig = plt.figure(figsize=(20,10))\n",
    "ax = fig.add_subplot(111, projection='3d')\n",
    "pnt3d = ax.scatter(X_embedded[:,4],X_embedded[:,8], c=y_new)\n",
    "cbar=plt.colorbar(pnt3d)\n",
    "cbar.set_label(\"Values (units)\")"
   ]
  },
  {
   "cell_type": "code",
   "execution_count": null,
   "metadata": {},
   "outputs": [],
   "source": [
    "kmeans=[]\n",
    "g = X.transpose()\n",
    "for i in tqdm(range(2,20)):\n",
    "    temp=KMeans(n_clusters=i, random_state=0).fit(g)\n",
    "    kmeans.append(temp.score(g))"
   ]
  },
  {
   "cell_type": "code",
   "execution_count": null,
   "metadata": {},
   "outputs": [],
   "source": [
    "plt.plot(range(2,20),kmeans,\".-\")"
   ]
  },
  {
   "cell_type": "code",
   "execution_count": null,
   "metadata": {},
   "outputs": [],
   "source": [
    "gg = KMeans(n_clusters=5, random_state=0).fit(g)\n",
    "# mirna_data.append(gg.labels_)"
   ]
  },
  {
   "cell_type": "code",
   "execution_count": null,
   "metadata": {},
   "outputs": [],
   "source": [
    "mirna_data=mirna_data.append(pd.Series(gg.labels_, index=mirna_data.columns, name = \"Group\"))"
   ]
  },
  {
   "cell_type": "code",
   "execution_count": null,
   "metadata": {},
   "outputs": [],
   "source": []
  },
  {
   "cell_type": "code",
   "execution_count": null,
   "metadata": {},
   "outputs": [],
   "source": [
    "groups = set(mirna_data.loc[\"Group\",:])"
   ]
  },
  {
   "cell_type": "code",
   "execution_count": null,
   "metadata": {},
   "outputs": [],
   "source": [
    "plt.hist(mirna_data.loc[\"Group\",:])"
   ]
  },
  {
   "cell_type": "code",
   "execution_count": null,
   "metadata": {},
   "outputs": [],
   "source": []
  },
  {
   "cell_type": "code",
   "execution_count": null,
   "metadata": {},
   "outputs": [],
   "source": []
  },
  {
   "cell_type": "code",
   "execution_count": null,
   "metadata": {},
   "outputs": [],
   "source": []
  },
  {
   "cell_type": "code",
   "execution_count": null,
   "metadata": {},
   "outputs": [],
   "source": []
  }
 ],
 "metadata": {
  "kernelspec": {
   "display_name": "Python 3",
   "language": "python",
   "name": "python3"
  },
  "language_info": {
   "codemirror_mode": {
    "name": "ipython",
    "version": 3
   },
   "file_extension": ".py",
   "mimetype": "text/x-python",
   "name": "python",
   "nbconvert_exporter": "python",
   "pygments_lexer": "ipython3",
   "version": "3.7.4"
  }
 },
 "nbformat": 4,
 "nbformat_minor": 1
}
